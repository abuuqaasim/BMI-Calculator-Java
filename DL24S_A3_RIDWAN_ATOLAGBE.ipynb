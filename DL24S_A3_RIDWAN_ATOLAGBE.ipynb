{
  "cells": [
    {
      "cell_type": "markdown",
      "metadata": {
        "id": "view-in-github",
        "colab_type": "text"
      },
      "source": [
        "<a href=\"https://colab.research.google.com/github/abuuqaasim/BMI-Calculator-Java/blob/master/DL24S_A3_RIDWAN_ATOLAGBE.ipynb\" target=\"_parent\"><img src=\"https://colab.research.google.com/assets/colab-badge.svg\" alt=\"Open In Colab\"/></a>"
      ]
    },
    {
      "cell_type": "markdown",
      "metadata": {
        "id": "23DdYgQOTpP9"
      },
      "source": [
        "# 1 Prepare Your Jupyter Notebook"
      ]
    },
    {
      "cell_type": "code",
      "execution_count": null,
      "metadata": {
        "colab": {
          "base_uri": "https://localhost:8080/"
        },
        "id": "OJSUJpI0S46L",
        "outputId": "26fbbbfa-3cb3-4bc2-989e-1955e9dd7fbb"
      },
      "outputs": [
        {
          "name": "stdout",
          "output_type": "stream",
          "text": [
            "\rutils.py                [<=>                 ]       0  --.-KB/s               \rutils.py                [ <=>                ]   4.93K  --.-KB/s    in 0s      \n",
            "2024-06-28 14:56:40 URL:https://cloud.tu-ilmenau.de/s/8EZfAjwPFPxFSrw/download/utils.py [5053] -> \"utils.py\" [1]\n"
          ]
        }
      ],
      "source": [
        "url = \"https://cloud.tu-ilmenau.de/s/8EZfAjwPFPxFSrw/download/utils.py\"\n",
        "!wget -nv -t 0 --show-progress $url\n",
        "import utils"
      ]
    },
    {
      "cell_type": "code",
      "execution_count": null,
      "metadata": {
        "id": "ud4BgpfONMRH"
      },
      "outputs": [],
      "source": [
        "utils??"
      ]
    },
    {
      "cell_type": "code",
      "execution_count": null,
      "metadata": {
        "id": "Z1NkYRimbHXL"
      },
      "outputs": [],
      "source": [
        "utils.plot_multiple_histories??"
      ]
    },
    {
      "cell_type": "code",
      "execution_count": null,
      "metadata": {
        "colab": {
          "base_uri": "https://localhost:8080/",
          "height": 204,
          "referenced_widgets": [
            "b2eb8060134b4a6c9c59f9ab98115cf0",
            "838b416eea4a464cafef38ce59d635f5",
            "2102db8b0c41426b850ec883c1bd3df5",
            "e097a557aa914fc0af8c8619422e48fe",
            "27192b558ee04b8ebe43e9f0282e8fa2",
            "9ab12f786f8948ffaaeba4ed08fb26a9",
            "e4cbaa46fedd4dcbab49120b2607b30f",
            "c7d8f4da08314a7792af605fd3f7e3f1",
            "fa557356961f47929a52c6b046e29685",
            "7e65894bf3f245f1b6cfa67d633d2297",
            "09541acc5ad446c788552ebdf90904e9",
            "3d9a8ab41b2f453cb4d94e7109f790f8",
            "a2069f0c23ed47958956e9c82be37518",
            "b11eb305fd7549e3b7ea804d4d37e7c7",
            "145d663ce5cd4c96808a36856dd801e6",
            "109f148ad3d94684adf98aa98092636c",
            "53a4a7964ec34f309ffb777ded7cc034",
            "8600ae8934324e8ba8c4d37ce861a43e",
            "78cb0b205a414f9bbb7b0eb935ae2ffe",
            "ba4a3673a5d44177873db0b82b0518aa",
            "f02bdba4533f4544b8f5d4092f4f2dcf",
            "439bab0c18494e388928a01197e53521",
            "73f4cd61e292463f84a43f3d8a94f9f5",
            "9a01f5ee6dcf492d8918fd84e2cd3248",
            "67354d5d38624a848b9405707b74ac02",
            "0318381407214437b84c687d6ca49423",
            "df3618a5155e4abbbbecc4715c54d7ba",
            "d5f7180917e144ba9b10cc48d01c0d87",
            "0dfa9a512f44491eae9e25f82b8eed8a",
            "15bb884ff4ff437589c575fe1b981b96",
            "65374dbaf252417a95025396dac98262",
            "7720f116460e486d93f704af282d7734",
            "9dc54804bb9e4f5e95e11c8096cf9ee7",
            "b26ee6fce1ba46b3b0ce7b72ccced593",
            "c6a5b0146ebb4c71bdfd511c7515efcb",
            "866860c324e048d0802640caee8c6be5",
            "b9dc9599e31145f2bd91dcde720dbeaf",
            "7a87a8aed1a84f22a66da06bf91ccb07",
            "c1cdd11a452c4dda9fba925eb39ec672",
            "700b8a9805bf4218833136dec7151436",
            "83bd67bdba38494d87a34cdb187f9786",
            "8c828164cf154e05b9e1b6182f622fc0",
            "c9f1b4a9d14c480b822f0de2274bf881",
            "60d40a5be7604c7982ab67dcea595633",
            "dd96c526af1f47eab8c5ab453df23a01",
            "082bef9a762641b3824988f28d832527",
            "6fa9482ab0574027a39d8825fc23aa36",
            "43e7716a540c409b82c2606f1613b357",
            "6eccf21b38534b189a3068ced5ece2f2",
            "f129025f1c214aa19fd8695cd33116be",
            "df5a8c856d1f4fe6b0dad24f337b8dbc",
            "e1f65417d2764da08e1c353c85ecf183",
            "8a80e80d25394123bc31f10361f2a824",
            "ebbb61abfe444d5f89fcd2143e43ad77",
            "394ea113733c411081c6f6bf90b73048",
            "1b1bdeeef1ae4862b83e5381f6e70233",
            "e72b99c5aaa1463b8b3035c82b2d7c33",
            "77a47d978a2049c48bb1f0bad60e84d8",
            "425bd259b3244bd5901afccfcdf92847",
            "e45fbef7e33549e6af28f3766f397366",
            "884d5f1618f047baaa6871f4e04b45ef",
            "0e18100e1de240498f206a92cbeb1a6f",
            "49ef7bb0e7d44897901e6d7b2358a3c5",
            "89b40721b31f474caa29c480799bd0cf",
            "1a6258f75e9e445388ac7e412bc35493",
            "0f2d88f43bb74307b6a07f3e229e489e",
            "118cab85f9a14169bb19c8b73a21764a",
            "b0e18a630be641a1be1f44b49c2235ab",
            "df5ddc2fd9cf43e9886a460aa3df03c0",
            "6a3d3ff51aab45e99d200f9beff8f1cc",
            "8e00432f19354e79b1279538aacc01f8",
            "180cca0a8b9548db88ec5893bc58c75f",
            "fbc108b917484c28a891859c2fdba763",
            "aa9dbbfaa61948bfa751e7e6dc15d671",
            "f18cbfbcf1214c129ffbed90b9d2c9fa",
            "79ed6dcb7bad4608ae08fb4d2dbcd09d",
            "5feebfc59952432ca9614c4304c3d80a",
            "183449f6b25e40c887a6dd4d72188150",
            "855c09a80ed54d2899f789d0baac2dee",
            "96e70d286a38495daa42de05cf21a55d",
            "5d6597a9a3f34ff5a0b8588242197c9d",
            "10345a88cc104ba09e540b231acae5f2",
            "6bff1f4fb49741e0ad77d518b3a3e545",
            "205cf734268d441d97a44e2987382438",
            "28dc3a37087a41f9be0bd85e67065be3",
            "4370fc629e6a4bb4a3ecdf5af015d9bf",
            "f0501d3099e243d18344f786aeb4ea03",
            "e2eb085fa71b41c8aca7b7995a2e9acb"
          ]
        },
        "id": "YO6RYATbWujM",
        "outputId": "95a1a2bb-9a85-4177-8f8c-6748006afded"
      },
      "outputs": [
        {
          "name": "stdout",
          "output_type": "stream",
          "text": [
            "Downloading and preparing dataset 11.24 MiB (download: 11.24 MiB, generated: 35.79 MiB, total: 47.03 MiB) to /root/tensorflow_datasets/ag_news_subset/1.0.0...\n"
          ]
        },
        {
          "data": {
            "application/vnd.jupyter.widget-view+json": {
              "model_id": "b2eb8060134b4a6c9c59f9ab98115cf0",
              "version_major": 2,
              "version_minor": 0
            },
            "text/plain": [
              "Dl Completed...: 0 url [00:00, ? url/s]"
            ]
          },
          "metadata": {},
          "output_type": "display_data"
        },
        {
          "data": {
            "application/vnd.jupyter.widget-view+json": {
              "model_id": "3d9a8ab41b2f453cb4d94e7109f790f8",
              "version_major": 2,
              "version_minor": 0
            },
            "text/plain": [
              "Dl Size...: 0 MiB [00:00, ? MiB/s]"
            ]
          },
          "metadata": {},
          "output_type": "display_data"
        },
        {
          "data": {
            "application/vnd.jupyter.widget-view+json": {
              "model_id": "73f4cd61e292463f84a43f3d8a94f9f5",
              "version_major": 2,
              "version_minor": 0
            },
            "text/plain": [
              "Extraction completed...: 0 file [00:00, ? file/s]"
            ]
          },
          "metadata": {},
          "output_type": "display_data"
        },
        {
          "data": {
            "application/vnd.jupyter.widget-view+json": {
              "model_id": "b26ee6fce1ba46b3b0ce7b72ccced593",
              "version_major": 2,
              "version_minor": 0
            },
            "text/plain": [
              "Generating splits...:   0%|          | 0/2 [00:00<?, ? splits/s]"
            ]
          },
          "metadata": {},
          "output_type": "display_data"
        },
        {
          "data": {
            "application/vnd.jupyter.widget-view+json": {
              "model_id": "dd96c526af1f47eab8c5ab453df23a01",
              "version_major": 2,
              "version_minor": 0
            },
            "text/plain": [
              "Generating train examples...:   0%|          | 0/120000 [00:00<?, ? examples/s]"
            ]
          },
          "metadata": {},
          "output_type": "display_data"
        },
        {
          "data": {
            "application/vnd.jupyter.widget-view+json": {
              "model_id": "1b1bdeeef1ae4862b83e5381f6e70233",
              "version_major": 2,
              "version_minor": 0
            },
            "text/plain": [
              "Shuffling /root/tensorflow_datasets/ag_news_subset/incomplete.KIR9TF_1.0.0/ag_news_subset-train.tfrecord*...: …"
            ]
          },
          "metadata": {},
          "output_type": "display_data"
        },
        {
          "data": {
            "application/vnd.jupyter.widget-view+json": {
              "model_id": "118cab85f9a14169bb19c8b73a21764a",
              "version_major": 2,
              "version_minor": 0
            },
            "text/plain": [
              "Generating test examples...:   0%|          | 0/7600 [00:00<?, ? examples/s]"
            ]
          },
          "metadata": {},
          "output_type": "display_data"
        },
        {
          "data": {
            "application/vnd.jupyter.widget-view+json": {
              "model_id": "183449f6b25e40c887a6dd4d72188150",
              "version_major": 2,
              "version_minor": 0
            },
            "text/plain": [
              "Shuffling /root/tensorflow_datasets/ag_news_subset/incomplete.KIR9TF_1.0.0/ag_news_subset-test.tfrecord*...:  …"
            ]
          },
          "metadata": {},
          "output_type": "display_data"
        },
        {
          "name": "stdout",
          "output_type": "stream",
          "text": [
            "Dataset ag_news_subset downloaded and prepared to /root/tensorflow_datasets/ag_news_subset/1.0.0. Subsequent calls will reuse this data.\n",
            "Train samples = 120000\n",
            "Test samples = 7600\n"
          ]
        }
      ],
      "source": [
        "train_ds, val_ds, class_names = utils.load_ag_news()"
      ]
    },
    {
      "cell_type": "code",
      "execution_count": null,
      "metadata": {
        "colab": {
          "base_uri": "https://localhost:8080/"
        },
        "id": "XcMuXnCGW0uu",
        "outputId": "9ff28acf-dbb2-406e-c21f-791657c2545f"
      },
      "outputs": [
        {
          "data": {
            "text/plain": [
              "['World', 'Sports', 'Business', 'Sci/Tech']"
            ]
          },
          "execution_count": 5,
          "metadata": {},
          "output_type": "execute_result"
        }
      ],
      "source": [
        "class_names"
      ]
    },
    {
      "cell_type": "markdown",
      "metadata": {
        "id": "Q_UFSzMDYNcC"
      },
      "source": [
        "# 2 Text Vectorization"
      ]
    },
    {
      "cell_type": "code",
      "execution_count": null,
      "metadata": {
        "id": "znd5T6H1Xqix"
      },
      "outputs": [],
      "source": [
        "from tensorflow.keras import layers\n",
        "\n",
        "output_sequence_length = 100 # i understood this from  https://medium.com/@mkk.rakesh/text-preprocessing-understanding-vectorization-and-embedding-using-tensorflow-with-simple-example-d3905b2c4692\n",
        "\n",
        "vectorizer = layers.TextVectorization(output_sequence_length=output_sequence_length, split='character')\n",
        "vectorizer.adapt(train_ds.take(50).map(utils.return_input_only))"
      ]
    },
    {
      "cell_type": "code",
      "execution_count": null,
      "metadata": {
        "colab": {
          "base_uri": "https://localhost:8080/"
        },
        "id": "5kM8dmOgbSWe",
        "outputId": "97f7addb-352a-46ee-b85e-1d8fd1791368"
      },
      "outputs": [
        {
          "name": "stdout",
          "output_type": "stream",
          "text": [
            "Vocabulary size:  39\n"
          ]
        }
      ],
      "source": [
        "#get unique words in the vocabulary\n",
        "vocab = vectorizer.get_vocabulary()\n",
        "\n",
        "print('Vocabulary size: ', len(vocab))"
      ]
    },
    {
      "cell_type": "code",
      "execution_count": null,
      "metadata": {
        "colab": {
          "base_uri": "https://localhost:8080/"
        },
        "id": "sfBQamj4cDwI",
        "outputId": "a2e73b2c-91c5-4811-b548-0add906cfd1b"
      },
      "outputs": [
        {
          "name": "stdout",
          "output_type": "stream",
          "text": [
            "['', '[UNK]', ' ', 'e', 'a', 't', 'o', 'i', 's', 'n']\n"
          ]
        }
      ],
      "source": [
        "first_ten_words = vocab[:10]\n",
        "\n",
        "print(first_ten_words)"
      ]
    },
    {
      "cell_type": "code",
      "execution_count": null,
      "metadata": {
        "colab": {
          "base_uri": "https://localhost:8080/"
        },
        "id": "HCCzYR4VctRX",
        "outputId": "f71d7ccd-07e6-4c6f-9b2d-d9dfcd0757fe"
      },
      "outputs": [
        {
          "data": {
            "text/plain": [
              "<tf.Tensor: shape=(1, 100), dtype=int64, numpy=\n",
              "array([[ 6,  9, 11, 20,  2, 16,  6,  9, 12,  4, 20,  2,  7,  9,  2, 11,\n",
              "         7,  5, 13, 15,  4,  9,  7,  4,  0,  0,  0,  0,  0,  0,  0,  0,\n",
              "         0,  0,  0,  0,  0,  0,  0,  0,  0,  0,  0,  0,  0,  0,  0,  0,\n",
              "         0,  0,  0,  0,  0,  0,  0,  0,  0,  0,  0,  0,  0,  0,  0,  0,\n",
              "         0,  0,  0,  0,  0,  0,  0,  0,  0,  0,  0,  0,  0,  0,  0,  0,\n",
              "         0,  0,  0,  0,  0,  0,  0,  0,  0,  0,  0,  0,  0,  0,  0,  0,\n",
              "         0,  0,  0,  0]])>"
            ]
          },
          "execution_count": 9,
          "metadata": {},
          "output_type": "execute_result"
        }
      ],
      "source": [
        "my_sentence = 'only monday in lithuania'\n",
        "vectorizer([my_sentence])"
      ]
    },
    {
      "cell_type": "code",
      "execution_count": null,
      "metadata": {
        "id": "7jsGWBnboisi"
      },
      "outputs": [],
      "source": [
        "# print(train_ds.take(10))\n",
        "\n",
        "# for input, label in train_ds.take(10):\n",
        "#   print(input.numpy())\n",
        "#   print(label.numpy())"
      ]
    },
    {
      "cell_type": "code",
      "execution_count": null,
      "metadata": {
        "colab": {
          "background_save": true
        },
        "id": "-7FZx6OsdWYL"
      },
      "outputs": [],
      "source": [
        "\n",
        "#This solution was gotten via chatgpt with little modification from me.\n",
        "#Prompt:\n",
        "#1. when working with the TextVectorizer adapt method on training and validation datasets. do i have to create a\n",
        "#variable for each of them (i.e. adapted training and validation dataset)\n",
        "vectorizer.adapt(train_ds.map(utils.return_input_only)) #Explanation: I had thought I needed to create multiple instances of the TextVectorizer for each of the train_ds and val_ds this led me to getting errors afterwards\n",
        "#I got to know that only one instance is enough and it is to be used to adapt the training dataset. The result of this can then be used to vectorize both datasets as shown in the last two LOC below\n",
        "def vectorize_text(text, label):\n",
        "  return vectorizer(text), label\n",
        "\n",
        "transformed_train_ds = train_ds.map(vectorize_text)\n",
        "transformed_val_ds = val_ds.map(vectorize_text)\n",
        "\n",
        "\n",
        "#This solution was gotten via chatgpt with little modification from me.\n",
        "#Prompts:\n",
        "#1. when working with the TextVectorizer adapt method on training and validation datasets. do i have to create a\n",
        "#variable for each of them (i.e. adapted training and validation dataset)\n",
        "\n"
      ]
    },
    {
      "cell_type": "code",
      "execution_count": null,
      "metadata": {
        "colab": {
          "background_save": true
        },
        "id": "ewYgmnRKhsEO",
        "outputId": "fa2a60b3-d852-40a2-df71-0367d540a585"
      },
      "outputs": [
        {
          "name": "stdout",
          "output_type": "stream",
          "text": [
            "39\n",
            "[]\n"
          ]
        }
      ],
      "source": [
        "vocab = vectorizer.get_vocabulary()  #testing\n",
        "print(len(vocab))\n",
        "print(vocab[10000:10500])"
      ]
    },
    {
      "cell_type": "code",
      "execution_count": null,
      "metadata": {
        "colab": {
          "background_save": true
        },
        "id": "kh63d2e8hqM0"
      },
      "outputs": [],
      "source": [
        "import tensorflow as tf\n",
        "\n",
        "AUTOTUNE = tf.data.AUTOTUNE\n",
        "\n",
        "train_ds_opt = transformed_train_ds.cache().shuffle(1000).batch(128).prefetch(buffer_size=AUTOTUNE)\n",
        "val_ds_opt = transformed_val_ds.cache().batch(128).prefetch(buffer_size=AUTOTUNE)"
      ]
    },
    {
      "cell_type": "markdown",
      "metadata": {
        "id": "R-DHlxm9Si8Z"
      },
      "source": [
        "3 - Bag-of-Characters Model"
      ]
    },
    {
      "cell_type": "code",
      "execution_count": null,
      "metadata": {
        "colab": {
          "background_save": true
        },
        "id": "GgKB7RrRpxXG"
      },
      "outputs": [],
      "source": [
        "\n",
        "from tensorflow.keras.losses import SparseCategoricalCrossentropy\n",
        "from tensorflow.keras.optimizers import Adam\n",
        "from tensorflow.keras.metrics import SparseCategoricalAccuracy\n",
        "\n",
        "def build_boc_model():\n",
        "\n",
        "\n",
        "  input = layers.Input(shape=(1,), dtype=tf.int64)\n",
        "  x = layers.Embedding(input_dim= len(vocab), output_dim= 4)(input)\n",
        "  x = utils.TruncateLayer(max_length=100)(x)\n",
        "  x= layers.GlobalAveragePooling1D()(x)\n",
        "  output = layers.Dense(len(class_names), activation='softmax')(x)\n",
        "\n",
        "  model = tf.keras.models.Model(input, output)\n",
        "  model.compile(\n",
        "      loss=SparseCategoricalCrossentropy(),\n",
        "      optimizer=Adam(),\n",
        "      metrics=[SparseCategoricalAccuracy()]\n",
        "  )\n",
        "\n",
        "  print(model.summary())\n",
        "\n",
        "  return model"
      ]
    },
    {
      "cell_type": "code",
      "execution_count": null,
      "metadata": {
        "colab": {
          "background_save": true
        },
        "id": "4XXNyfs4ncWA"
      },
      "outputs": [],
      "source": []
    },
    {
      "cell_type": "code",
      "execution_count": null,
      "metadata": {
        "colab": {
          "background_save": true
        },
        "id": "dSyUp7bS-hTY",
        "outputId": "fad75ffc-8759-4618-ce0a-040c231155ae"
      },
      "outputs": [
        {
          "name": "stdout",
          "output_type": "stream",
          "text": [
            "Model: \"model\"\n",
            "_________________________________________________________________\n",
            " Layer (type)                Output Shape              Param #   \n",
            "=================================================================\n",
            " input_1 (InputLayer)        [(None, 1)]               0         \n",
            "                                                                 \n",
            " embedding (Embedding)       (None, 1, 4)              156       \n",
            "                                                                 \n",
            " truncate_layer (TruncateLa  (None, 1, 4)              0         \n",
            " yer)                                                            \n",
            "                                                                 \n",
            " global_average_pooling1d (  (None, 4)                 0         \n",
            " GlobalAveragePooling1D)                                         \n",
            "                                                                 \n",
            " dense (Dense)               (None, 4)                 20        \n",
            "                                                                 \n",
            "=================================================================\n",
            "Total params: 176 (704.00 Byte)\n",
            "Trainable params: 176 (704.00 Byte)\n",
            "Non-trainable params: 0 (0.00 Byte)\n",
            "_________________________________________________________________\n",
            "None\n"
          ]
        }
      ],
      "source": [
        "boc_model = build_boc_model()"
      ]
    },
    {
      "cell_type": "code",
      "execution_count": null,
      "metadata": {
        "colab": {
          "background_save": true
        },
        "id": "ZIzQaLc8_ybq",
        "outputId": "a312d8cc-9156-452b-c51a-b938754cc7f1"
      },
      "outputs": [
        {
          "name": "stdout",
          "output_type": "stream",
          "text": [
            "Epoch 1/10\n",
            "938/938 [==============================] - 28s 28ms/step - loss: 1.3621 - sparse_categorical_accuracy: 0.3728 - val_loss: 1.3261 - val_sparse_categorical_accuracy: 0.4247\n",
            "Epoch 2/10\n",
            "938/938 [==============================] - 3s 3ms/step - loss: 1.2873 - sparse_categorical_accuracy: 0.4343 - val_loss: 1.2663 - val_sparse_categorical_accuracy: 0.4428\n",
            "Epoch 3/10\n",
            "938/938 [==============================] - 3s 3ms/step - loss: 1.2438 - sparse_categorical_accuracy: 0.4480 - val_loss: 1.2399 - val_sparse_categorical_accuracy: 0.4497\n",
            "Epoch 4/10\n",
            "938/938 [==============================] - 4s 4ms/step - loss: 1.2251 - sparse_categorical_accuracy: 0.4530 - val_loss: 1.2293 - val_sparse_categorical_accuracy: 0.4518\n",
            "Epoch 5/10\n",
            "938/938 [==============================] - 3s 3ms/step - loss: 1.2175 - sparse_categorical_accuracy: 0.4554 - val_loss: 1.2250 - val_sparse_categorical_accuracy: 0.4529\n",
            "Epoch 6/10\n",
            "938/938 [==============================] - 3s 3ms/step - loss: 1.2141 - sparse_categorical_accuracy: 0.4567 - val_loss: 1.2225 - val_sparse_categorical_accuracy: 0.4549\n",
            "Epoch 7/10\n",
            "938/938 [==============================] - 3s 3ms/step - loss: 1.2122 - sparse_categorical_accuracy: 0.4577 - val_loss: 1.2210 - val_sparse_categorical_accuracy: 0.4551\n",
            "Epoch 8/10\n",
            "938/938 [==============================] - 3s 3ms/step - loss: 1.2110 - sparse_categorical_accuracy: 0.4586 - val_loss: 1.2202 - val_sparse_categorical_accuracy: 0.4562\n",
            "Epoch 9/10\n",
            "938/938 [==============================] - 4s 4ms/step - loss: 1.2102 - sparse_categorical_accuracy: 0.4591 - val_loss: 1.2195 - val_sparse_categorical_accuracy: 0.4562\n",
            "Epoch 10/10\n",
            "938/938 [==============================] - 3s 3ms/step - loss: 1.2096 - sparse_categorical_accuracy: 0.4594 - val_loss: 1.2190 - val_sparse_categorical_accuracy: 0.4546\n"
          ]
        }
      ],
      "source": [
        "history = boc_model.fit(train_ds_opt, validation_data= val_ds_opt,epochs=10)"
      ]
    },
    {
      "cell_type": "code",
      "execution_count": null,
      "metadata": {
        "colab": {
          "background_save": true
        },
        "id": "owB9PfHA_MeB",
        "outputId": "f54dc09c-e39b-4178-9f72-fd2d26bb402b"
      },
      "outputs": [
        {
          "data": {
            "image/png": "[encoded data removed]",
            "text/plain": [
              "<Figure size 960x720 with 2 Axes>"
            ]
          },
          "metadata": {},
          "output_type": "display_data"
        }
      ],
      "source": [
        "utils.plot_history(history)"
      ]
    },
    {
      "cell_type": "markdown",
      "metadata": {
        "id": "HezoAfXDLJ_J"
      },
      "source": [
        "4 - GRU Model"
      ]
    },
    {
      "cell_type": "code",
      "execution_count": null,
      "metadata": {
        "colab": {
          "background_save": true
        },
        "id": "mvj5MGDQLIoE"
      },
      "outputs": [],
      "source": [
        "def build_gru_model(hidden_size):\n",
        "  input = layers.Input(shape=(1,), dtype=tf.int64)\n",
        "  x = layers.Embedding(input_dim= len(vocab),output_dim= 4)(input)\n",
        "  x = utils.TruncateLayer(max_length=50)(x)\n",
        "  x = layers.GRU(hidden_size)(x)\n",
        "  output = layers.Dense(len(class_names), activation='softmax')(x)\n",
        "\n",
        "  model = tf.keras.models.Model(input, output)\n",
        "  model.compile(\n",
        "      loss=SparseCategoricalCrossentropy(),\n",
        "      optimizer=Adam(),\n",
        "      metrics=[SparseCategoricalAccuracy()]\n",
        "  )\n",
        "\n",
        "  print(model.summary())\n",
        "\n",
        "  return model"
      ]
    },
    {
      "cell_type": "code",
      "execution_count": null,
      "metadata": {
        "colab": {
          "background_save": true
        },
        "id": "UoMiG7pwOWGM"
      },
      "outputs": [],
      "source": [
        "def train_gru():\n",
        "  hidden_sizes=[16, 32, 64] #this will be used as the associated label for the plot\n",
        "  histories = []\n",
        "\n",
        "\n",
        "  for h in hidden_sizes:\n",
        "    gru_model = build_gru_model(h)\n",
        "    history = gru_model.fit(train_ds_opt, validation_data= val_ds_opt,epochs=10)\n",
        "    histories.append(history)\n",
        "\n",
        "  return histories,hidden_sizes"
      ]
    },
    {
      "cell_type": "code",
      "execution_count": null,
      "metadata": {
        "colab": {
          "background_save": true
        },
        "id": "5DgapVynlsXK",
        "outputId": "2a3eebda-21da-40a6-b51a-e579dedfc84d"
      },
      "outputs": [
        {
          "name": "stdout",
          "output_type": "stream",
          "text": [
            "Model: \"model_1\"\n",
            "_________________________________________________________________\n",
            " Layer (type)                Output Shape              Param #   \n",
            "=================================================================\n",
            " input_2 (InputLayer)        [(None, 1)]               0         \n",
            "                                                                 \n",
            " embedding_1 (Embedding)     (None, 1, 4)              156       \n",
            "                                                                 \n",
            " truncate_layer_1 (Truncate  (None, 1, 4)              0         \n",
            " Layer)                                                          \n",
            "                                                                 \n",
            " gru (GRU)                   (None, 16)                1056      \n",
            "                                                                 \n",
            " dense_1 (Dense)             (None, 4)                 68        \n",
            "                                                                 \n",
            "=================================================================\n",
            "Total params: 1280 (5.00 KB)\n",
            "Trainable params: 1280 (5.00 KB)\n",
            "Non-trainable params: 0 (0.00 Byte)\n",
            "_________________________________________________________________\n",
            "None\n",
            "Epoch 1/10\n",
            "938/938 [==============================] - 9s 7ms/step - loss: 1.3149 - sparse_categorical_accuracy: 0.3602 - val_loss: 1.2895 - val_sparse_categorical_accuracy: 0.3874\n",
            "Epoch 2/10\n",
            "938/938 [==============================] - 5s 5ms/step - loss: 1.2825 - sparse_categorical_accuracy: 0.3951 - val_loss: 1.2794 - val_sparse_categorical_accuracy: 0.3951\n",
            "Epoch 3/10\n",
            "938/938 [==============================] - 5s 5ms/step - loss: 1.2759 - sparse_categorical_accuracy: 0.4013 - val_loss: 1.2766 - val_sparse_categorical_accuracy: 0.3947\n",
            "Epoch 4/10\n",
            "938/938 [==============================] - 5s 6ms/step - loss: 1.2660 - sparse_categorical_accuracy: 0.4085 - val_loss: 1.2639 - val_sparse_categorical_accuracy: 0.4129\n",
            "Epoch 5/10\n",
            "938/938 [==============================] - 5s 5ms/step - loss: 1.2552 - sparse_categorical_accuracy: 0.4137 - val_loss: 1.2512 - val_sparse_categorical_accuracy: 0.4217\n",
            "Epoch 6/10\n",
            "938/938 [==============================] - 5s 6ms/step - loss: 1.2441 - sparse_categorical_accuracy: 0.4236 - val_loss: 1.2393 - val_sparse_categorical_accuracy: 0.4287\n",
            "Epoch 7/10\n",
            "938/938 [==============================] - 5s 5ms/step - loss: 1.2324 - sparse_categorical_accuracy: 0.4326 - val_loss: 1.2320 - val_sparse_categorical_accuracy: 0.4309\n",
            "Epoch 8/10\n",
            "938/938 [==============================] - 6s 6ms/step - loss: 1.2233 - sparse_categorical_accuracy: 0.4399 - val_loss: 1.2267 - val_sparse_categorical_accuracy: 0.4403\n",
            "Epoch 9/10\n",
            "938/938 [==============================] - 5s 6ms/step - loss: 1.2147 - sparse_categorical_accuracy: 0.4472 - val_loss: 1.2162 - val_sparse_categorical_accuracy: 0.4483\n",
            "Epoch 10/10\n",
            "938/938 [==============================] - 6s 6ms/step - loss: 1.2049 - sparse_categorical_accuracy: 0.4552 - val_loss: 1.2025 - val_sparse_categorical_accuracy: 0.4566\n",
            "Model: \"model_2\"\n",
            "_________________________________________________________________\n",
            " Layer (type)                Output Shape              Param #   \n",
            "=================================================================\n",
            " input_3 (InputLayer)        [(None, 1)]               0         \n",
            "                                                                 \n",
            " embedding_2 (Embedding)     (None, 1, 4)              156       \n",
            "                                                                 \n",
            " truncate_layer_2 (Truncate  (None, 1, 4)              0         \n",
            " Layer)                                                          \n",
            "                                                                 \n",
            " gru_1 (GRU)                 (None, 32)                3648      \n",
            "                                                                 \n",
            " dense_2 (Dense)             (None, 4)                 132       \n",
            "                                                                 \n",
            "=================================================================\n",
            "Total params: 3936 (15.38 KB)\n",
            "Trainable params: 3936 (15.38 KB)\n",
            "Non-trainable params: 0 (0.00 Byte)\n",
            "_________________________________________________________________\n",
            "None\n",
            "Epoch 1/10\n",
            "938/938 [==============================] - 8s 7ms/step - loss: 1.3160 - sparse_categorical_accuracy: 0.3581 - val_loss: 1.2892 - val_sparse_categorical_accuracy: 0.3859\n",
            "Epoch 2/10\n",
            "938/938 [==============================] - 6s 6ms/step - loss: 1.2715 - sparse_categorical_accuracy: 0.3996 - val_loss: 1.2635 - val_sparse_categorical_accuracy: 0.4059\n",
            "Epoch 3/10\n",
            "938/938 [==============================] - 5s 6ms/step - loss: 1.2550 - sparse_categorical_accuracy: 0.4120 - val_loss: 1.2517 - val_sparse_categorical_accuracy: 0.4141\n",
            "Epoch 4/10\n",
            "938/938 [==============================] - 6s 6ms/step - loss: 1.2395 - sparse_categorical_accuracy: 0.4276 - val_loss: 1.2323 - val_sparse_categorical_accuracy: 0.4378\n",
            "Epoch 5/10\n",
            "938/938 [==============================] - 5s 5ms/step - loss: 1.2172 - sparse_categorical_accuracy: 0.4482 - val_loss: 1.2067 - val_sparse_categorical_accuracy: 0.4574\n",
            "Epoch 6/10\n",
            "938/938 [==============================] - 6s 6ms/step - loss: 1.1962 - sparse_categorical_accuracy: 0.4631 - val_loss: 1.1917 - val_sparse_categorical_accuracy: 0.4688\n",
            "Epoch 7/10\n",
            "938/938 [==============================] - 5s 6ms/step - loss: 1.1823 - sparse_categorical_accuracy: 0.4740 - val_loss: 1.1779 - val_sparse_categorical_accuracy: 0.4784\n",
            "Epoch 8/10\n",
            "938/938 [==============================] - 6s 6ms/step - loss: 1.1681 - sparse_categorical_accuracy: 0.4839 - val_loss: 1.1654 - val_sparse_categorical_accuracy: 0.4912\n",
            "Epoch 9/10\n",
            "938/938 [==============================] - 6s 6ms/step - loss: 1.1516 - sparse_categorical_accuracy: 0.4945 - val_loss: 1.1533 - val_sparse_categorical_accuracy: 0.4975\n",
            "Epoch 10/10\n",
            "938/938 [==============================] - 5s 5ms/step - loss: 1.1338 - sparse_categorical_accuracy: 0.5067 - val_loss: 1.1332 - val_sparse_categorical_accuracy: 0.5103\n",
            "Model: \"model_3\"\n",
            "_________________________________________________________________\n",
            " Layer (type)                Output Shape              Param #   \n",
            "=================================================================\n",
            " input_4 (InputLayer)        [(None, 1)]               0         \n",
            "                                                                 \n",
            " embedding_3 (Embedding)     (None, 1, 4)              156       \n",
            "                                                                 \n",
            " truncate_layer_3 (Truncate  (None, 1, 4)              0         \n",
            " Layer)                                                          \n",
            "                                                                 \n",
            " gru_2 (GRU)                 (None, 64)                13440     \n",
            "                                                                 \n",
            " dense_3 (Dense)             (None, 4)                 260       \n",
            "                                                                 \n",
            "=================================================================\n",
            "Total params: 13856 (54.12 KB)\n",
            "Trainable params: 13856 (54.12 KB)\n",
            "Non-trainable params: 0 (0.00 Byte)\n",
            "_________________________________________________________________\n",
            "None\n",
            "Epoch 1/10\n",
            "938/938 [==============================] - 9s 7ms/step - loss: 1.3278 - sparse_categorical_accuracy: 0.3421 - val_loss: 1.2845 - val_sparse_categorical_accuracy: 0.3922\n",
            "Epoch 2/10\n",
            "938/938 [==============================] - 5s 6ms/step - loss: 1.2637 - sparse_categorical_accuracy: 0.4067 - val_loss: 1.2517 - val_sparse_categorical_accuracy: 0.4174\n",
            "Epoch 3/10\n",
            "938/938 [==============================] - 6s 6ms/step - loss: 1.2384 - sparse_categorical_accuracy: 0.4285 - val_loss: 1.2272 - val_sparse_categorical_accuracy: 0.4421\n",
            "Epoch 4/10\n",
            "938/938 [==============================] - 6s 6ms/step - loss: 1.2124 - sparse_categorical_accuracy: 0.4495 - val_loss: 1.2067 - val_sparse_categorical_accuracy: 0.4591\n",
            "Epoch 5/10\n",
            "938/938 [==============================] - 5s 5ms/step - loss: 1.1788 - sparse_categorical_accuracy: 0.4759 - val_loss: 1.1635 - val_sparse_categorical_accuracy: 0.4934\n",
            "Epoch 6/10\n",
            "938/938 [==============================] - 5s 6ms/step - loss: 1.1289 - sparse_categorical_accuracy: 0.5071 - val_loss: 1.0991 - val_sparse_categorical_accuracy: 0.5287\n",
            "Epoch 7/10\n",
            "938/938 [==============================] - 5s 6ms/step - loss: 1.0708 - sparse_categorical_accuracy: 0.5425 - val_loss: 1.0402 - val_sparse_categorical_accuracy: 0.5676\n",
            "Epoch 8/10\n",
            "938/938 [==============================] - 5s 5ms/step - loss: 1.0118 - sparse_categorical_accuracy: 0.5768 - val_loss: 0.9819 - val_sparse_categorical_accuracy: 0.5975\n",
            "Epoch 9/10\n",
            "938/938 [==============================] - 6s 6ms/step - loss: 0.9590 - sparse_categorical_accuracy: 0.6066 - val_loss: 0.9479 - val_sparse_categorical_accuracy: 0.6154\n",
            "Epoch 10/10\n",
            "938/938 [==============================] - 5s 5ms/step - loss: 0.9175 - sparse_categorical_accuracy: 0.6278 - val_loss: 0.9067 - val_sparse_categorical_accuracy: 0.6395\n"
          ]
        }
      ],
      "source": [
        "histories, hidden_sizes = train_gru()"
      ]
    },
    {
      "cell_type": "code",
      "execution_count": null,
      "metadata": {
        "colab": {
          "background_save": true
        },
        "id": "_ya9MwxVdgyE"
      },
      "outputs": [],
      "source": [
        "utils.plot_multiple_histories??"
      ]
    },
    {
      "cell_type": "code",
      "execution_count": null,
      "metadata": {
        "colab": {
          "background_save": true
        },
        "id": "wh8Wmw1Db1ZE",
        "outputId": "fec50da8-9e5b-4661-d32f-b02c54bf3905"
      },
      "outputs": [
        {
          "data": {
            "image/png": "[encoded data removed]",
            "text/plain": [
              "<Figure size 1500x750 with 4 Axes>"
            ]
          },
          "metadata": {},
          "output_type": "display_data"
        }
      ],
      "source": [
        "utils.plot_multiple_histories(histories, hidden_sizes)"
      ]
    },
    {
      "cell_type": "markdown",
      "metadata": {
        "id": "YHpvWkvIcT9c"
      },
      "source": [
        "5 - Stacked GRUs"
      ]
    },
    {
      "cell_type": "code",
      "execution_count": null,
      "metadata": {
        "colab": {
          "background_save": true
        },
        "id": "2mwf9eq9gBsa"
      },
      "outputs": [],
      "source": [
        "def build_gru_model(gru_layers):\n",
        "  input = layers.Input(shape=(1,), dtype=tf.int64)\n",
        "  print('input layer paseed')\n",
        "  x = layers.Embedding(input_dim= len(vocab),output_dim= 4)(input)\n",
        "  x = utils.TruncateLayer(max_length=50)(x)\n",
        "  for _ in range(gru_layers-1):\n",
        "    x = layers.GRU(16, return_sequences= True)(x)    #the addition of return sequences in all but last GRU was explained by gemini\n",
        "    print('GRU layer paseed')\n",
        "\n",
        "  x = layers.GRU(16)(x)\n",
        "  output = layers.Dense(len(class_names), activation='softmax')(x)\n",
        "\n",
        "  model = tf.keras.models.Model(input, output)\n",
        "  model.compile(\n",
        "      loss=SparseCategoricalCrossentropy(),\n",
        "      optimizer=Adam(),\n",
        "      metrics=[SparseCategoricalAccuracy()]\n",
        "  )\n",
        "\n",
        "  print(model.summary())\n",
        "\n",
        "  return model"
      ]
    },
    {
      "cell_type": "code",
      "execution_count": null,
      "metadata": {
        "colab": {
          "background_save": true
        },
        "id": "a-A2kKSccTou"
      },
      "outputs": [],
      "source": [
        "def train_stacked_gru():\n",
        "  gru_layers = [2,3,4] #this will be used to label the models accordingly\n",
        "  histories = []\n",
        "\n",
        "  for k in gru_layers:\n",
        "    gru_model = build_gru_model(k)\n",
        "    history = gru_model.fit(train_ds_opt, validation_data= val_ds_opt,epochs=10)\n",
        "    histories.append(history)\n",
        "\n",
        "  return histories,gru_layers\n"
      ]
    },
    {
      "cell_type": "code",
      "execution_count": null,
      "metadata": {
        "colab": {
          "background_save": true
        },
        "id": "7rBsC9A8xdfg",
        "outputId": "7023169d-8945-4af4-cd23-fcc7e1c3c264"
      },
      "outputs": [
        {
          "name": "stdout",
          "output_type": "stream",
          "text": [
            "input layer paseed\n",
            "GRU layer paseed\n",
            "Model: \"model_4\"\n",
            "_________________________________________________________________\n",
            " Layer (type)                Output Shape              Param #   \n",
            "=================================================================\n",
            " input_5 (InputLayer)        [(None, 1)]               0         \n",
            "                                                                 \n",
            " embedding_4 (Embedding)     (None, 1, 4)              156       \n",
            "                                                                 \n",
            " truncate_layer_4 (Truncate  (None, 1, 4)              0         \n",
            " Layer)                                                          \n",
            "                                                                 \n",
            " gru_3 (GRU)                 (None, 1, 16)             1056      \n",
            "                                                                 \n",
            " gru_4 (GRU)                 (None, 16)                1632      \n",
            "                                                                 \n",
            " dense_4 (Dense)             (None, 4)                 68        \n",
            "                                                                 \n",
            "=================================================================\n",
            "Total params: 2912 (11.38 KB)\n",
            "Trainable params: 2912 (11.38 KB)\n",
            "Non-trainable params: 0 (0.00 Byte)\n",
            "_________________________________________________________________\n",
            "None\n",
            "Epoch 1/10\n",
            "938/938 [==============================] - 11s 8ms/step - loss: 1.3124 - sparse_categorical_accuracy: 0.3605 - val_loss: 1.2898 - val_sparse_categorical_accuracy: 0.3934\n",
            "Epoch 2/10\n",
            "938/938 [==============================] - 8s 8ms/step - loss: 1.2722 - sparse_categorical_accuracy: 0.4022 - val_loss: 1.2624 - val_sparse_categorical_accuracy: 0.4146\n",
            "Epoch 3/10\n",
            "938/938 [==============================] - 8s 8ms/step - loss: 1.2489 - sparse_categorical_accuracy: 0.4209 - val_loss: 1.2401 - val_sparse_categorical_accuracy: 0.4297\n",
            "Epoch 4/10\n",
            "938/938 [==============================] - 8s 8ms/step - loss: 1.2326 - sparse_categorical_accuracy: 0.4358 - val_loss: 1.2287 - val_sparse_categorical_accuracy: 0.4396\n",
            "Epoch 5/10\n",
            "938/938 [==============================] - 8s 8ms/step - loss: 1.2220 - sparse_categorical_accuracy: 0.4450 - val_loss: 1.2271 - val_sparse_categorical_accuracy: 0.4428\n",
            "Epoch 6/10\n",
            "938/938 [==============================] - 8s 8ms/step - loss: 1.2095 - sparse_categorical_accuracy: 0.4560 - val_loss: 1.2042 - val_sparse_categorical_accuracy: 0.4642\n",
            "Epoch 7/10\n",
            "938/938 [==============================] - 7s 7ms/step - loss: 1.1964 - sparse_categorical_accuracy: 0.4655 - val_loss: 1.1975 - val_sparse_categorical_accuracy: 0.4699\n",
            "Epoch 8/10\n",
            "938/938 [==============================] - 7s 7ms/step - loss: 1.1793 - sparse_categorical_accuracy: 0.4766 - val_loss: 1.1782 - val_sparse_categorical_accuracy: 0.4800\n",
            "Epoch 9/10\n",
            "938/938 [==============================] - 8s 8ms/step - loss: 1.1584 - sparse_categorical_accuracy: 0.4921 - val_loss: 1.1529 - val_sparse_categorical_accuracy: 0.4945\n",
            "Epoch 10/10\n",
            "938/938 [==============================] - 7s 8ms/step - loss: 1.1356 - sparse_categorical_accuracy: 0.5073 - val_loss: 1.1327 - val_sparse_categorical_accuracy: 0.5067\n",
            "input layer paseed\n",
            "GRU layer paseed\n",
            "GRU layer paseed\n",
            "Model: \"model_5\"\n",
            "_________________________________________________________________\n",
            " Layer (type)                Output Shape              Param #   \n",
            "=================================================================\n",
            " input_6 (InputLayer)        [(None, 1)]               0         \n",
            "                                                                 \n",
            " embedding_5 (Embedding)     (None, 1, 4)              156       \n",
            "                                                                 \n",
            " truncate_layer_5 (Truncate  (None, 1, 4)              0         \n",
            " Layer)                                                          \n",
            "                                                                 \n",
            " gru_5 (GRU)                 (None, 1, 16)             1056      \n",
            "                                                                 \n",
            " gru_6 (GRU)                 (None, 1, 16)             1632      \n",
            "                                                                 \n",
            " gru_7 (GRU)                 (None, 16)                1632      \n",
            "                                                                 \n",
            " dense_5 (Dense)             (None, 4)                 68        \n",
            "                                                                 \n",
            "=================================================================\n",
            "Total params: 4544 (17.75 KB)\n",
            "Trainable params: 4544 (17.75 KB)\n",
            "Non-trainable params: 0 (0.00 Byte)\n",
            "_________________________________________________________________\n",
            "None\n",
            "Epoch 1/10\n",
            "938/938 [==============================] - 15s 11ms/step - loss: 1.3210 - sparse_categorical_accuracy: 0.3487 - val_loss: 1.2861 - val_sparse_categorical_accuracy: 0.3871\n",
            "Epoch 2/10\n",
            "938/938 [==============================] - 10s 10ms/step - loss: 1.2708 - sparse_categorical_accuracy: 0.4015 - val_loss: 1.2614 - val_sparse_categorical_accuracy: 0.4117\n",
            "Epoch 3/10\n",
            "938/938 [==============================] - 9s 10ms/step - loss: 1.2488 - sparse_categorical_accuracy: 0.4188 - val_loss: 1.2458 - val_sparse_categorical_accuracy: 0.4214\n",
            "Epoch 4/10\n",
            "938/938 [==============================] - 9s 10ms/step - loss: 1.2348 - sparse_categorical_accuracy: 0.4294 - val_loss: 1.2310 - val_sparse_categorical_accuracy: 0.4354\n",
            "Epoch 5/10\n",
            "938/938 [==============================] - 10s 10ms/step - loss: 1.2171 - sparse_categorical_accuracy: 0.4431 - val_loss: 1.2073 - val_sparse_categorical_accuracy: 0.4445\n",
            "Epoch 6/10\n",
            "938/938 [==============================] - 9s 10ms/step - loss: 1.2011 - sparse_categorical_accuracy: 0.4579 - val_loss: 1.1942 - val_sparse_categorical_accuracy: 0.4686\n",
            "Epoch 7/10\n",
            "938/938 [==============================] - 9s 10ms/step - loss: 1.1827 - sparse_categorical_accuracy: 0.4736 - val_loss: 1.1829 - val_sparse_categorical_accuracy: 0.4747\n",
            "Epoch 8/10\n",
            "938/938 [==============================] - 9s 10ms/step - loss: 1.1624 - sparse_categorical_accuracy: 0.4868 - val_loss: 1.1609 - val_sparse_categorical_accuracy: 0.4846\n",
            "Epoch 9/10\n",
            "938/938 [==============================] - 9s 10ms/step - loss: 1.1397 - sparse_categorical_accuracy: 0.5016 - val_loss: 1.1338 - val_sparse_categorical_accuracy: 0.5033\n",
            "Epoch 10/10\n",
            "938/938 [==============================] - 9s 10ms/step - loss: 1.1177 - sparse_categorical_accuracy: 0.5150 - val_loss: 1.1108 - val_sparse_categorical_accuracy: 0.5168\n",
            "input layer paseed\n",
            "GRU layer paseed\n",
            "GRU layer paseed\n",
            "GRU layer paseed\n",
            "Model: \"model_6\"\n",
            "_________________________________________________________________\n",
            " Layer (type)                Output Shape              Param #   \n",
            "=================================================================\n",
            " input_7 (InputLayer)        [(None, 1)]               0         \n",
            "                                                                 \n",
            " embedding_6 (Embedding)     (None, 1, 4)              156       \n",
            "                                                                 \n",
            " truncate_layer_6 (Truncate  (None, 1, 4)              0         \n",
            " Layer)                                                          \n",
            "                                                                 \n",
            " gru_8 (GRU)                 (None, 1, 16)             1056      \n",
            "                                                                 \n",
            " gru_9 (GRU)                 (None, 1, 16)             1632      \n",
            "                                                                 \n",
            " gru_10 (GRU)                (None, 1, 16)             1632      \n",
            "                                                                 \n",
            " gru_11 (GRU)                (None, 16)                1632      \n",
            "                                                                 \n",
            " dense_6 (Dense)             (None, 4)                 68        \n",
            "                                                                 \n",
            "=================================================================\n",
            "Total params: 6176 (24.12 KB)\n",
            "Trainable params: 6176 (24.12 KB)\n",
            "Non-trainable params: 0 (0.00 Byte)\n",
            "_________________________________________________________________\n",
            "None\n",
            "Epoch 1/10\n",
            "938/938 [==============================] - 19s 14ms/step - loss: 1.3196 - sparse_categorical_accuracy: 0.3524 - val_loss: 1.2992 - val_sparse_categorical_accuracy: 0.3759\n",
            "Epoch 2/10\n",
            "938/938 [==============================] - 12s 12ms/step - loss: 1.2705 - sparse_categorical_accuracy: 0.4055 - val_loss: 1.2457 - val_sparse_categorical_accuracy: 0.4283\n",
            "Epoch 3/10\n",
            "938/938 [==============================] - 12s 13ms/step - loss: 1.2367 - sparse_categorical_accuracy: 0.4331 - val_loss: 1.2332 - val_sparse_categorical_accuracy: 0.4341\n",
            "Epoch 4/10\n",
            "938/938 [==============================] - 11s 12ms/step - loss: 1.2195 - sparse_categorical_accuracy: 0.4462 - val_loss: 1.2130 - val_sparse_categorical_accuracy: 0.4489\n",
            "Epoch 5/10\n",
            "938/938 [==============================] - 11s 12ms/step - loss: 1.2036 - sparse_categorical_accuracy: 0.4581 - val_loss: 1.1979 - val_sparse_categorical_accuracy: 0.4653\n",
            "Epoch 6/10\n",
            "938/938 [==============================] - 11s 12ms/step - loss: 1.1845 - sparse_categorical_accuracy: 0.4717 - val_loss: 1.1793 - val_sparse_categorical_accuracy: 0.4774\n",
            "Epoch 7/10\n",
            "938/938 [==============================] - 11s 12ms/step - loss: 1.1631 - sparse_categorical_accuracy: 0.4856 - val_loss: 1.1590 - val_sparse_categorical_accuracy: 0.4896\n",
            "Epoch 8/10\n",
            "938/938 [==============================] - 12s 12ms/step - loss: 1.1384 - sparse_categorical_accuracy: 0.5038 - val_loss: 1.1276 - val_sparse_categorical_accuracy: 0.5089\n",
            "Epoch 9/10\n",
            "938/938 [==============================] - 12s 12ms/step - loss: 1.1080 - sparse_categorical_accuracy: 0.5234 - val_loss: 1.0989 - val_sparse_categorical_accuracy: 0.5249\n",
            "Epoch 10/10\n",
            "938/938 [==============================] - 12s 12ms/step - loss: 1.0803 - sparse_categorical_accuracy: 0.5394 - val_loss: 1.0780 - val_sparse_categorical_accuracy: 0.5368\n"
          ]
        }
      ],
      "source": [
        "histories, gru_layers = train_stacked_gru()"
      ]
    },
    {
      "cell_type": "code",
      "execution_count": null,
      "metadata": {
        "colab": {
          "background_save": true
        },
        "id": "zsDAJD7Vg6zX",
        "outputId": "a245e9d9-4de7-441e-9460-ee476a353ba6"
      },
      "outputs": [
        {
          "data": {
            "image/png": "[encoded data removed]",
            "text/plain": [
              "<Figure size 1500x750 with 4 Axes>"
            ]
          },
          "metadata": {},
          "output_type": "display_data"
        }
      ],
      "source": [
        "utils.plot_multiple_histories(histories, gru_layers)"
      ]
    },
    {
      "cell_type": "markdown",
      "metadata": {
        "id": "5Je0SEHchHsU"
      },
      "source": [
        "6 - Stacked GRUs with skip connections"
      ]
    },
    {
      "cell_type": "code",
      "execution_count": null,
      "metadata": {
        "colab": {
          "background_save": true
        },
        "id": "SYh1ebarB-LU",
        "outputId": "0c14327a-5757-4fdd-c847-66b16921ca0b"
      },
      "outputs": [
        {
          "data": {
            "text/plain": [
              "39"
            ]
          },
          "execution_count": 27,
          "metadata": {},
          "output_type": "execute_result"
        }
      ],
      "source": [
        "len(vocab)"
      ]
    },
    {
      "cell_type": "code",
      "execution_count": null,
      "metadata": {
        "colab": {
          "background_save": true
        },
        "id": "wSb61EUuhQeA"
      },
      "outputs": [],
      "source": [
        "def build_gru_model_with_skip():\n",
        "\n",
        "  input = layers.Input(shape=(1,), dtype=tf.int64)\n",
        "  x = layers.Embedding(input_dim=len(vocab),output_dim= len(vocab) )(input)\n",
        "  x = utils.TruncateLayer(max_length=100)(x)\n",
        "  x_g1 = layers.GRU(len(vocab),return_sequences= True)(x)\n",
        "  x = layers.Add()([x_g1])\n",
        "  x_g2 = layers.GRU(len(vocab),return_sequences= True)(x)\n",
        "  x = layers.Add()([x_g2])\n",
        "  x_g3 = layers.GRU(len(vocab))(x)\n",
        "  x = layers.Add()([x_g3])\n",
        "  output = layers.Dense(len(class_names), activation='softmax')(x)\n",
        "\n",
        "  model = tf.keras.models.Model(input, output)\n",
        "  model.compile(\n",
        "      loss=SparseCategoricalCrossentropy(),\n",
        "      optimizer=Adam(),\n",
        "      metrics=[SparseCategoricalAccuracy()]\n",
        "  )\n",
        "\n",
        "  print(model.summary())\n",
        "\n",
        "  return model"
      ]
    },
    {
      "cell_type": "code",
      "execution_count": null,
      "metadata": {
        "colab": {
          "background_save": true
        },
        "id": "vQX7lF6rA6cZ",
        "outputId": "dd6830c3-685f-4685-dfab-0b5243c9c62d"
      },
      "outputs": [
        {
          "name": "stdout",
          "output_type": "stream",
          "text": [
            "Model: \"model_7\"\n",
            "_________________________________________________________________\n",
            " Layer (type)                Output Shape              Param #   \n",
            "=================================================================\n",
            " input_8 (InputLayer)        [(None, 1)]               0         \n",
            "                                                                 \n",
            " embedding_7 (Embedding)     (None, 1, 4)              156       \n",
            "                                                                 \n",
            " truncate_layer_7 (Truncate  (None, 1, 4)              0         \n",
            " Layer)                                                          \n",
            "                                                                 \n",
            " gru_12 (GRU)                (None, 1, 39)             5265      \n",
            "                                                                 \n",
            " add (Add)                   (None, 1, 39)             0         \n",
            "                                                                 \n",
            " gru_13 (GRU)                (None, 1, 39)             9360      \n",
            "                                                                 \n",
            " add_1 (Add)                 (None, 1, 39)             0         \n",
            "                                                                 \n",
            " gru_14 (GRU)                (None, 39)                9360      \n",
            "                                                                 \n",
            " add_2 (Add)                 (None, 39)                0         \n",
            "                                                                 \n",
            " dense_7 (Dense)             (None, 4)                 160       \n",
            "                                                                 \n",
            "=================================================================\n",
            "Total params: 24301 (94.93 KB)\n",
            "Trainable params: 24301 (94.93 KB)\n",
            "Non-trainable params: 0 (0.00 Byte)\n",
            "_________________________________________________________________\n",
            "None\n"
          ]
        }
      ],
      "source": [
        "skip_model = build_gru_model_with_skip()\n"
      ]
    },
    {
      "cell_type": "markdown",
      "metadata": {
        "id": "PvQMEhsHnqC3"
      },
      "source": [
        "::A variable 'gru_sums' was used to accumulate the outputs of the GRU layers. Thereafter, the current GRU layer's output and the gru_sums are passed to a list which serves as input to the skip connection (i.e. Add layer). The return_sequence parameter of the GRU layer was to True"
      ]
    },
    {
      "cell_type": "code",
      "execution_count": null,
      "metadata": {
        "id": "vzo4ztpvyiwm"
      },
      "outputs": [],
      "source": [
        "early_stopping = tf.keras.callbacks.EarlyStopping(\n",
        "    monitor='val_loss',\n",
        "    patience=10,\n",
        "    mode='auto',\n",
        "\n",
        ")\n",
        "\n",
        "reduceLROP = tf.keras.callbacks.ReduceLROnPlateau(\n",
        "    monitor='val_loss',\n",
        "    factor=0.1,\n",
        "    patience=5,\n",
        "    mode='auto',\n",
        ")\n",
        "\n",
        "skip_history = skip_model.fit(train_ds_opt, validation_data= val_ds_opt,epochs=50, callbacks=[early_stopping, reduceLROP])"
      ]
    },
    {
      "cell_type": "code",
      "execution_count": null,
      "metadata": {
        "id": "HASlAkAmz8jL"
      },
      "outputs": [],
      "source": [
        "def build_gru_model_with_skip():\n",
        "\n",
        "\n",
        "\n",
        "  input = layers.Input(shape=(1,), dtype=tf.int64)\n",
        "  x = layers.Embedding(input_dim=len(vocab),output_dim= 4)(input)\n",
        "  x = utils.TruncateLayer(max_length=100)(x)\n",
        "  x = layers.GRU(len(vocab),return_sequences= True)(x)\n",
        "  x = layers.GRU(len(vocab),return_sequences= True)(x)\n",
        "  x = layers.GRU(len(vocab))(x)\n",
        "  output = layers.Dense(len(class_names), activation='softmax')(x)\n",
        "\n",
        "  model = tf.keras.models.Model(input, output)\n",
        "  model.compile(\n",
        "      loss=SparseCategoricalCrossentropy(),\n",
        "      optimizer=Adam(),\n",
        "      metrics=[SparseCategoricalAccuracy()]\n",
        "  )\n",
        "\n",
        "  print(model.summary())\n",
        "\n",
        "  return model"
      ]
    },
    {
      "cell_type": "code",
      "execution_count": null,
      "metadata": {
        "colab": {
          "base_uri": "https://localhost:8080/"
        },
        "id": "JY0zGM_h6wIU",
        "outputId": "179c1427-4d2f-4902-aef1-95d1ce8b922e"
      },
      "outputs": [
        {
          "name": "stdout",
          "output_type": "stream",
          "text": [
            "Model: \"model_17\"\n",
            "_________________________________________________________________\n",
            " Layer (type)                Output Shape              Param #   \n",
            "=================================================================\n",
            " input_32 (InputLayer)       [(None, 1)]               0         \n",
            "                                                                 \n",
            " embedding_29 (Embedding)    (None, 1, 4)              156       \n",
            "                                                                 \n",
            " truncate_layer_28 (Truncat  (None, 1, 4)              0         \n",
            " eLayer)                                                         \n",
            "                                                                 \n",
            " gru_46 (GRU)                (None, 1, 39)             5265      \n",
            "                                                                 \n",
            " gru_47 (GRU)                (None, 1, 39)             9360      \n",
            "                                                                 \n",
            " gru_48 (GRU)                (None, 39)                9360      \n",
            "                                                                 \n",
            " dense_17 (Dense)            (None, 4)                 160       \n",
            "                                                                 \n",
            "=================================================================\n",
            "Total params: 24301 (94.93 KB)\n",
            "Trainable params: 24301 (94.93 KB)\n",
            "Non-trainable params: 0 (0.00 Byte)\n",
            "_________________________________________________________________\n",
            "None\n"
          ]
        }
      ],
      "source": [
        "early_stopping = tf.keras.callbacks.EarlyStopping(\n",
        "    monitor='val_loss',\n",
        "    patience=10,\n",
        "    mode='auto',\n",
        "\n",
        ")\n",
        "\n",
        "reduceLROP = tf.keras.callbacks.ReduceLROnPlateau(\n",
        "    monitor='val_loss',\n",
        "    factor=0.1,\n",
        "    patience=5,\n",
        "    mode='auto',\n",
        ")\n",
        "\n",
        "no_skip_history_model = build_gru_model_with_skip()"
      ]
    },
    {
      "cell_type": "code",
      "execution_count": null,
      "metadata": {
        "colab": {
          "base_uri": "https://localhost:8080/"
        },
        "id": "3h9SAaykVtuG",
        "outputId": "42b095ab-41be-46a0-a00b-dae87520a888"
      },
      "outputs": [
        {
          "name": "stdout",
          "output_type": "stream",
          "text": [
            "Epoch 1/50\n",
            "938/938 [==============================] - 19s 16ms/step - loss: 1.3181 - sparse_categorical_accuracy: 0.3510 - val_loss: 1.2535 - val_sparse_categorical_accuracy: 0.4187 - lr: 0.0010\n",
            "Epoch 2/50\n",
            "938/938 [==============================] - 13s 14ms/step - loss: 1.2379 - sparse_categorical_accuracy: 0.4285 - val_loss: 1.2279 - val_sparse_categorical_accuracy: 0.4380 - lr: 0.0010\n",
            "Epoch 3/50\n",
            "938/938 [==============================] - 13s 14ms/step - loss: 1.2149 - sparse_categorical_accuracy: 0.4391 - val_loss: 1.2156 - val_sparse_categorical_accuracy: 0.4400 - lr: 0.0010\n",
            "Epoch 4/50\n",
            "938/938 [==============================] - 13s 14ms/step - loss: 1.1734 - sparse_categorical_accuracy: 0.4648 - val_loss: 1.1560 - val_sparse_categorical_accuracy: 0.4739 - lr: 0.0010\n",
            "Epoch 5/50\n",
            "938/938 [==============================] - 14s 15ms/step - loss: 1.1190 - sparse_categorical_accuracy: 0.5048 - val_loss: 1.0748 - val_sparse_categorical_accuracy: 0.5388 - lr: 0.0010\n",
            "Epoch 6/50\n",
            "938/938 [==============================] - 13s 14ms/step - loss: 1.0291 - sparse_categorical_accuracy: 0.5657 - val_loss: 0.9860 - val_sparse_categorical_accuracy: 0.5904 - lr: 0.0010\n",
            "Epoch 7/50\n",
            "938/938 [==============================] - 13s 14ms/step - loss: 0.9397 - sparse_categorical_accuracy: 0.6161 - val_loss: 0.9027 - val_sparse_categorical_accuracy: 0.6308 - lr: 0.0010\n",
            "Epoch 8/50\n",
            "938/938 [==============================] - 13s 14ms/step - loss: 0.8667 - sparse_categorical_accuracy: 0.6537 - val_loss: 0.8341 - val_sparse_categorical_accuracy: 0.6708 - lr: 0.0010\n",
            "Epoch 9/50\n",
            "938/938 [==============================] - 13s 14ms/step - loss: 0.8074 - sparse_categorical_accuracy: 0.6831 - val_loss: 0.7779 - val_sparse_categorical_accuracy: 0.6980 - lr: 0.0010\n",
            "Epoch 10/50\n",
            "938/938 [==============================] - 13s 14ms/step - loss: 0.7560 - sparse_categorical_accuracy: 0.7061 - val_loss: 0.7268 - val_sparse_categorical_accuracy: 0.7229 - lr: 0.0010\n",
            "Epoch 11/50\n",
            "938/938 [==============================] - 13s 14ms/step - loss: 0.7102 - sparse_categorical_accuracy: 0.7280 - val_loss: 0.7145 - val_sparse_categorical_accuracy: 0.7253 - lr: 0.0010\n",
            "Epoch 12/50\n",
            "938/938 [==============================] - 13s 14ms/step - loss: 0.6714 - sparse_categorical_accuracy: 0.7440 - val_loss: 0.6647 - val_sparse_categorical_accuracy: 0.7476 - lr: 0.0010\n",
            "Epoch 13/50\n",
            "938/938 [==============================] - 13s 14ms/step - loss: 0.6344 - sparse_categorical_accuracy: 0.7609 - val_loss: 0.6342 - val_sparse_categorical_accuracy: 0.7616 - lr: 0.0010\n",
            "Epoch 14/50\n",
            "938/938 [==============================] - 13s 14ms/step - loss: 0.6047 - sparse_categorical_accuracy: 0.7730 - val_loss: 0.6130 - val_sparse_categorical_accuracy: 0.7726 - lr: 0.0010\n",
            "Epoch 15/50\n",
            "938/938 [==============================] - 13s 14ms/step - loss: 0.5803 - sparse_categorical_accuracy: 0.7834 - val_loss: 0.6042 - val_sparse_categorical_accuracy: 0.7741 - lr: 0.0010\n",
            "Epoch 16/50\n",
            "938/938 [==============================] - 13s 14ms/step - loss: 0.5593 - sparse_categorical_accuracy: 0.7923 - val_loss: 0.5934 - val_sparse_categorical_accuracy: 0.7792 - lr: 0.0010\n",
            "Epoch 17/50\n",
            "938/938 [==============================] - 13s 14ms/step - loss: 0.5399 - sparse_categorical_accuracy: 0.8014 - val_loss: 0.5860 - val_sparse_categorical_accuracy: 0.7824 - lr: 0.0010\n",
            "Epoch 18/50\n",
            "938/938 [==============================] - 13s 14ms/step - loss: 0.5240 - sparse_categorical_accuracy: 0.8081 - val_loss: 0.5742 - val_sparse_categorical_accuracy: 0.7899 - lr: 0.0010\n",
            "Epoch 19/50\n",
            "938/938 [==============================] - 13s 14ms/step - loss: 0.5080 - sparse_categorical_accuracy: 0.8151 - val_loss: 0.5663 - val_sparse_categorical_accuracy: 0.7924 - lr: 0.0010\n",
            "Epoch 20/50\n",
            "938/938 [==============================] - 14s 15ms/step - loss: 0.4947 - sparse_categorical_accuracy: 0.8198 - val_loss: 0.5710 - val_sparse_categorical_accuracy: 0.7880 - lr: 0.0010\n",
            "Epoch 21/50\n",
            "938/938 [==============================] - 13s 14ms/step - loss: 0.4816 - sparse_categorical_accuracy: 0.8262 - val_loss: 0.5534 - val_sparse_categorical_accuracy: 0.7961 - lr: 0.0010\n",
            "Epoch 22/50\n",
            "938/938 [==============================] - 13s 14ms/step - loss: 0.4699 - sparse_categorical_accuracy: 0.8300 - val_loss: 0.5672 - val_sparse_categorical_accuracy: 0.7932 - lr: 0.0010\n",
            "Epoch 23/50\n",
            "938/938 [==============================] - 13s 14ms/step - loss: 0.4588 - sparse_categorical_accuracy: 0.8347 - val_loss: 0.5670 - val_sparse_categorical_accuracy: 0.7947 - lr: 0.0010\n",
            "Epoch 24/50\n",
            "938/938 [==============================] - 13s 14ms/step - loss: 0.4491 - sparse_categorical_accuracy: 0.8376 - val_loss: 0.5414 - val_sparse_categorical_accuracy: 0.8047 - lr: 0.0010\n",
            "Epoch 25/50\n",
            "938/938 [==============================] - 13s 14ms/step - loss: 0.4397 - sparse_categorical_accuracy: 0.8416 - val_loss: 0.5427 - val_sparse_categorical_accuracy: 0.8047 - lr: 0.0010\n",
            "Epoch 26/50\n",
            "938/938 [==============================] - 13s 14ms/step - loss: 0.4314 - sparse_categorical_accuracy: 0.8444 - val_loss: 0.5534 - val_sparse_categorical_accuracy: 0.7971 - lr: 0.0010\n",
            "Epoch 27/50\n",
            "938/938 [==============================] - 13s 14ms/step - loss: 0.4234 - sparse_categorical_accuracy: 0.8474 - val_loss: 0.5441 - val_sparse_categorical_accuracy: 0.8042 - lr: 0.0010\n",
            "Epoch 28/50\n",
            "938/938 [==============================] - 13s 14ms/step - loss: 0.4156 - sparse_categorical_accuracy: 0.8508 - val_loss: 0.5542 - val_sparse_categorical_accuracy: 0.8021 - lr: 0.0010\n",
            "Epoch 29/50\n",
            "938/938 [==============================] - 13s 14ms/step - loss: 0.4083 - sparse_categorical_accuracy: 0.8535 - val_loss: 0.5387 - val_sparse_categorical_accuracy: 0.8051 - lr: 0.0010\n",
            "Epoch 30/50\n",
            "938/938 [==============================] - 13s 14ms/step - loss: 0.4007 - sparse_categorical_accuracy: 0.8571 - val_loss: 0.5485 - val_sparse_categorical_accuracy: 0.8033 - lr: 0.0010\n",
            "Epoch 31/50\n",
            "938/938 [==============================] - 13s 14ms/step - loss: 0.3945 - sparse_categorical_accuracy: 0.8589 - val_loss: 0.5405 - val_sparse_categorical_accuracy: 0.8083 - lr: 0.0010\n",
            "Epoch 32/50\n",
            "938/938 [==============================] - 13s 14ms/step - loss: 0.3875 - sparse_categorical_accuracy: 0.8616 - val_loss: 0.5586 - val_sparse_categorical_accuracy: 0.8029 - lr: 0.0010\n",
            "Epoch 33/50\n",
            "938/938 [==============================] - 13s 14ms/step - loss: 0.3813 - sparse_categorical_accuracy: 0.8643 - val_loss: 0.5439 - val_sparse_categorical_accuracy: 0.8068 - lr: 0.0010\n",
            "Epoch 34/50\n",
            "938/938 [==============================] - 13s 14ms/step - loss: 0.3763 - sparse_categorical_accuracy: 0.8660 - val_loss: 0.5660 - val_sparse_categorical_accuracy: 0.8029 - lr: 0.0010\n",
            "Epoch 35/50\n",
            "938/938 [==============================] - 14s 15ms/step - loss: 0.3503 - sparse_categorical_accuracy: 0.8766 - val_loss: 0.5422 - val_sparse_categorical_accuracy: 0.8138 - lr: 1.0000e-04\n",
            "Epoch 36/50\n",
            "938/938 [==============================] - 13s 14ms/step - loss: 0.3422 - sparse_categorical_accuracy: 0.8799 - val_loss: 0.5428 - val_sparse_categorical_accuracy: 0.8132 - lr: 1.0000e-04\n",
            "Epoch 37/50\n",
            "938/938 [==============================] - 13s 14ms/step - loss: 0.3393 - sparse_categorical_accuracy: 0.8814 - val_loss: 0.5430 - val_sparse_categorical_accuracy: 0.8133 - lr: 1.0000e-04\n",
            "Epoch 38/50\n",
            "938/938 [==============================] - 13s 14ms/step - loss: 0.3373 - sparse_categorical_accuracy: 0.8821 - val_loss: 0.5439 - val_sparse_categorical_accuracy: 0.8130 - lr: 1.0000e-04\n",
            "Epoch 39/50\n",
            "938/938 [==============================] - 13s 14ms/step - loss: 0.3355 - sparse_categorical_accuracy: 0.8829 - val_loss: 0.5457 - val_sparse_categorical_accuracy: 0.8124 - lr: 1.0000e-04\n"
          ]
        }
      ],
      "source": [
        "no_skip_history = no_skip_history_model.fit(train_ds_opt, validation_data= val_ds_opt,epochs=50, callbacks=[early_stopping, reduceLROP])"
      ]
    },
    {
      "cell_type": "code",
      "execution_count": null,
      "metadata": {
        "colab": {
          "base_uri": "https://localhost:8080/",
          "height": 752
        },
        "id": "zKr4GY9U8N_m",
        "outputId": "158c96ff-c32d-4eb0-c343-037be7cdc7d4"
      },
      "outputs": [
        {
          "data": {
            "image/png": "[encoded data removed]",
            "text/plain": [
              "<Figure size 1500x750 with 4 Axes>"
            ]
          },
          "metadata": {},
          "output_type": "display_data"
        }
      ],
      "source": [
        "utils.plot_multiple_histories([skip_history,no_skip_history],['skip','no skip'])"
      ]
    }
  ],
  "metadata": {
    "accelerator": "GPU",
    "colab": {
      "gpuType": "T4",
      "provenance": [],
      "authorship_tag": "ABX9TyN//+72M8hJUmdYrknw02c8",
      "include_colab_link": true
    },
    "kernelspec": {
      "display_name": "Python 3",
      "name": "python3"
    },
    "language_info": {
      "name": "python"
    },
    "widgets": {
      "application/vnd.jupyter.widget-state+json": {
        "0318381407214437b84c687d6ca49423": {
          "model_module": "@jupyter-widgets/controls",
          "model_module_version": "1.5.0",
          "model_name": "HTMLModel",
          "state": {
            "_dom_classes": [],
            "_model_module": "@jupyter-widgets/controls",
            "_model_module_version": "1.5.0",
            "_model_name": "HTMLModel",
            "_view_count": null,
            "_view_module": "@jupyter-widgets/controls",
            "_view_module_version": "1.5.0",
            "_view_name": "HTMLView",
            "description": "",
            "description_tooltip": null,
            "layout": "IPY_MODEL_7720f116460e486d93f704af282d7734",
            "placeholder": "​",
            "style": "IPY_MODEL_9dc54804bb9e4f5e95e11c8096cf9ee7",
            "value": " 4/4 [00:22&lt;00:00, 22.03s/ file]"
          }
        },
        "082bef9a762641b3824988f28d832527": {
          "model_module": "@jupyter-widgets/controls",
          "model_module_version": "1.5.0",
          "model_name": "HTMLModel",
          "state": {
            "_dom_classes": [],
            "_model_module": "@jupyter-widgets/controls",
            "_model_module_version": "1.5.0",
            "_model_name": "HTMLModel",
            "_view_count": null,
            "_view_module": "@jupyter-widgets/controls",
            "_view_module_version": "1.5.0",
            "_view_name": "HTMLView",
            "description": "",
            "description_tooltip": null,
            "layout": "IPY_MODEL_f129025f1c214aa19fd8695cd33116be",
            "placeholder": "​",
            "style": "IPY_MODEL_df5a8c856d1f4fe6b0dad24f337b8dbc",
            "value": "Generating train examples...:  98%"
          }
        },
        "09541acc5ad446c788552ebdf90904e9": {
          "model_module": "@jupyter-widgets/controls",
          "model_module_version": "1.5.0",
          "model_name": "DescriptionStyleModel",
          "state": {
            "_model_module": "@jupyter-widgets/controls",
            "_model_module_version": "1.5.0",
            "_model_name": "DescriptionStyleModel",
            "_view_count": null,
            "_view_module": "@jupyter-widgets/base",
            "_view_module_version": "1.2.0",
            "_view_name": "StyleView",
            "description_width": ""
          }
        },
        "0dfa9a512f44491eae9e25f82b8eed8a": {
          "model_module": "@jupyter-widgets/controls",
          "model_module_version": "1.5.0",
          "model_name": "DescriptionStyleModel",
          "state": {
            "_model_module": "@jupyter-widgets/controls",
            "_model_module_version": "1.5.0",
            "_model_name": "DescriptionStyleModel",
            "_view_count": null,
            "_view_module": "@jupyter-widgets/base",
            "_view_module_version": "1.2.0",
            "_view_name": "StyleView",
            "description_width": ""
          }
        },
        "0e18100e1de240498f206a92cbeb1a6f": {
          "model_module": "@jupyter-widgets/controls",
          "model_module_version": "1.5.0",
          "model_name": "DescriptionStyleModel",
          "state": {
            "_model_module": "@jupyter-widgets/controls",
            "_model_module_version": "1.5.0",
            "_model_name": "DescriptionStyleModel",
            "_view_count": null,
            "_view_module": "@jupyter-widgets/base",
            "_view_module_version": "1.2.0",
            "_view_name": "StyleView",
            "description_width": ""
          }
        },
        "0f2d88f43bb74307b6a07f3e229e489e": {
          "model_module": "@jupyter-widgets/controls",
          "model_module_version": "1.5.0",
          "model_name": "DescriptionStyleModel",
          "state": {
            "_model_module": "@jupyter-widgets/controls",
            "_model_module_version": "1.5.0",
            "_model_name": "DescriptionStyleModel",
            "_view_count": null,
            "_view_module": "@jupyter-widgets/base",
            "_view_module_version": "1.2.0",
            "_view_name": "StyleView",
            "description_width": ""
          }
        },
        "10345a88cc104ba09e540b231acae5f2": {
          "model_module": "@jupyter-widgets/base",
          "model_module_version": "1.2.0",
          "model_name": "LayoutModel",
          "state": {
            "_model_module": "@jupyter-widgets/base",
            "_model_module_version": "1.2.0",
            "_model_name": "LayoutModel",
            "_view_count": null,
            "_view_module": "@jupyter-widgets/base",
            "_view_module_version": "1.2.0",
            "_view_name": "LayoutView",
            "align_content": null,
            "align_items": null,
            "align_self": null,
            "border": null,
            "bottom": null,
            "display": null,
            "flex": null,
            "flex_flow": null,
            "grid_area": null,
            "grid_auto_columns": null,
            "grid_auto_flow": null,
            "grid_auto_rows": null,
            "grid_column": null,
            "grid_gap": null,
            "grid_row": null,
            "grid_template_areas": null,
            "grid_template_columns": null,
            "grid_template_rows": null,
            "height": null,
            "justify_content": null,
            "justify_items": null,
            "left": null,
            "margin": null,
            "max_height": null,
            "max_width": null,
            "min_height": null,
            "min_width": null,
            "object_fit": null,
            "object_position": null,
            "order": null,
            "overflow": null,
            "overflow_x": null,
            "overflow_y": null,
            "padding": null,
            "right": null,
            "top": null,
            "visibility": "hidden",
            "width": null
          }
        },
        "109f148ad3d94684adf98aa98092636c": {
          "model_module": "@jupyter-widgets/base",
          "model_module_version": "1.2.0",
          "model_name": "LayoutModel",
          "state": {
            "_model_module": "@jupyter-widgets/base",
            "_model_module_version": "1.2.0",
            "_model_name": "LayoutModel",
            "_view_count": null,
            "_view_module": "@jupyter-widgets/base",
            "_view_module_version": "1.2.0",
            "_view_name": "LayoutView",
            "align_content": null,
            "align_items": null,
            "align_self": null,
            "border": null,
            "bottom": null,
            "display": null,
            "flex": null,
            "flex_flow": null,
            "grid_area": null,
            "grid_auto_columns": null,
            "grid_auto_flow": null,
            "grid_auto_rows": null,
            "grid_column": null,
            "grid_gap": null,
            "grid_row": null,
            "grid_template_areas": null,
            "grid_template_columns": null,
            "grid_template_rows": null,
            "height": null,
            "justify_content": null,
            "justify_items": null,
            "left": null,
            "margin": null,
            "max_height": null,
            "max_width": null,
            "min_height": null,
            "min_width": null,
            "object_fit": null,
            "object_position": null,
            "order": null,
            "overflow": null,
            "overflow_x": null,
            "overflow_y": null,
            "padding": null,
            "right": null,
            "top": null,
            "visibility": null,
            "width": null
          }
        },
        "118cab85f9a14169bb19c8b73a21764a": {
          "model_module": "@jupyter-widgets/controls",
          "model_module_version": "1.5.0",
          "model_name": "HBoxModel",
          "state": {
            "_dom_classes": [],
            "_model_module": "@jupyter-widgets/controls",
            "_model_module_version": "1.5.0",
            "_model_name": "HBoxModel",
            "_view_count": null,
            "_view_module": "@jupyter-widgets/controls",
            "_view_module_version": "1.5.0",
            "_view_name": "HBoxView",
            "box_style": "",
            "children": [
              "IPY_MODEL_b0e18a630be641a1be1f44b49c2235ab",
              "IPY_MODEL_df5ddc2fd9cf43e9886a460aa3df03c0",
              "IPY_MODEL_6a3d3ff51aab45e99d200f9beff8f1cc"
            ],
            "layout": "IPY_MODEL_8e00432f19354e79b1279538aacc01f8"
          }
        },
        "145d663ce5cd4c96808a36856dd801e6": {
          "model_module": "@jupyter-widgets/controls",
          "model_module_version": "1.5.0",
          "model_name": "HTMLModel",
          "state": {
            "_dom_classes": [],
            "_model_module": "@jupyter-widgets/controls",
            "_model_module_version": "1.5.0",
            "_model_name": "HTMLModel",
            "_view_count": null,
            "_view_module": "@jupyter-widgets/controls",
            "_view_module_version": "1.5.0",
            "_view_name": "HTMLView",
            "description": "",
            "description_tooltip": null,
            "layout": "IPY_MODEL_f02bdba4533f4544b8f5d4092f4f2dcf",
            "placeholder": "​",
            "style": "IPY_MODEL_439bab0c18494e388928a01197e53521",
            "value": " 11/11 [00:22&lt;00:00, 21.43s/ MiB]"
          }
        },
        "15bb884ff4ff437589c575fe1b981b96": {
          "model_module": "@jupyter-widgets/base",
          "model_module_version": "1.2.0",
          "model_name": "LayoutModel",
          "state": {
            "_model_module": "@jupyter-widgets/base",
            "_model_module_version": "1.2.0",
            "_model_name": "LayoutModel",
            "_view_count": null,
            "_view_module": "@jupyter-widgets/base",
            "_view_module_version": "1.2.0",
            "_view_name": "LayoutView",
            "align_content": null,
            "align_items": null,
            "align_self": null,
            "border": null,
            "bottom": null,
            "display": null,
            "flex": null,
            "flex_flow": null,
            "grid_area": null,
            "grid_auto_columns": null,
            "grid_auto_flow": null,
            "grid_auto_rows": null,
            "grid_column": null,
            "grid_gap": null,
            "grid_row": null,
            "grid_template_areas": null,
            "grid_template_columns": null,
            "grid_template_rows": null,
            "height": null,
            "justify_content": null,
            "justify_items": null,
            "left": null,
            "margin": null,
            "max_height": null,
            "max_width": null,
            "min_height": null,
            "min_width": null,
            "object_fit": null,
            "object_position": null,
            "order": null,
            "overflow": null,
            "overflow_x": null,
            "overflow_y": null,
            "padding": null,
            "right": null,
            "top": null,
            "visibility": null,
            "width": "20px"
          }
        },
        "180cca0a8b9548db88ec5893bc58c75f": {
          "model_module": "@jupyter-widgets/base",
          "model_module_version": "1.2.0",
          "model_name": "LayoutModel",
          "state": {
            "_model_module": "@jupyter-widgets/base",
            "_model_module_version": "1.2.0",
            "_model_name": "LayoutModel",
            "_view_count": null,
            "_view_module": "@jupyter-widgets/base",
            "_view_module_version": "1.2.0",
            "_view_name": "LayoutView",
            "align_content": null,
            "align_items": null,
            "align_self": null,
            "border": null,
            "bottom": null,
            "display": null,
            "flex": null,
            "flex_flow": null,
            "grid_area": null,
            "grid_auto_columns": null,
            "grid_auto_flow": null,
            "grid_auto_rows": null,
            "grid_column": null,
            "grid_gap": null,
            "grid_row": null,
            "grid_template_areas": null,
            "grid_template_columns": null,
            "grid_template_rows": null,
            "height": null,
            "justify_content": null,
            "justify_items": null,
            "left": null,
            "margin": null,
            "max_height": null,
            "max_width": null,
            "min_height": null,
            "min_width": null,
            "object_fit": null,
            "object_position": null,
            "order": null,
            "overflow": null,
            "overflow_x": null,
            "overflow_y": null,
            "padding": null,
            "right": null,
            "top": null,
            "visibility": null,
            "width": null
          }
        },
        "183449f6b25e40c887a6dd4d72188150": {
          "model_module": "@jupyter-widgets/controls",
          "model_module_version": "1.5.0",
          "model_name": "HBoxModel",
          "state": {
            "_dom_classes": [],
            "_model_module": "@jupyter-widgets/controls",
            "_model_module_version": "1.5.0",
            "_model_name": "HBoxModel",
            "_view_count": null,
            "_view_module": "@jupyter-widgets/controls",
            "_view_module_version": "1.5.0",
            "_view_name": "HBoxView",
            "box_style": "",
            "children": [
              "IPY_MODEL_855c09a80ed54d2899f789d0baac2dee",
              "IPY_MODEL_96e70d286a38495daa42de05cf21a55d",
              "IPY_MODEL_5d6597a9a3f34ff5a0b8588242197c9d"
            ],
            "layout": "IPY_MODEL_10345a88cc104ba09e540b231acae5f2"
          }
        },
        "1a6258f75e9e445388ac7e412bc35493": {
          "model_module": "@jupyter-widgets/base",
          "model_module_version": "1.2.0",
          "model_name": "LayoutModel",
          "state": {
            "_model_module": "@jupyter-widgets/base",
            "_model_module_version": "1.2.0",
            "_model_name": "LayoutModel",
            "_view_count": null,
            "_view_module": "@jupyter-widgets/base",
            "_view_module_version": "1.2.0",
            "_view_name": "LayoutView",
            "align_content": null,
            "align_items": null,
            "align_self": null,
            "border": null,
            "bottom": null,
            "display": null,
            "flex": null,
            "flex_flow": null,
            "grid_area": null,
            "grid_auto_columns": null,
            "grid_auto_flow": null,
            "grid_auto_rows": null,
            "grid_column": null,
            "grid_gap": null,
            "grid_row": null,
            "grid_template_areas": null,
            "grid_template_columns": null,
            "grid_template_rows": null,
            "height": null,
            "justify_content": null,
            "justify_items": null,
            "left": null,
            "margin": null,
            "max_height": null,
            "max_width": null,
            "min_height": null,
            "min_width": null,
            "object_fit": null,
            "object_position": null,
            "order": null,
            "overflow": null,
            "overflow_x": null,
            "overflow_y": null,
            "padding": null,
            "right": null,
            "top": null,
            "visibility": null,
            "width": null
          }
        },
        "1b1bdeeef1ae4862b83e5381f6e70233": {
          "model_module": "@jupyter-widgets/controls",
          "model_module_version": "1.5.0",
          "model_name": "HBoxModel",
          "state": {
            "_dom_classes": [],
            "_model_module": "@jupyter-widgets/controls",
            "_model_module_version": "1.5.0",
            "_model_name": "HBoxModel",
            "_view_count": null,
            "_view_module": "@jupyter-widgets/controls",
            "_view_module_version": "1.5.0",
            "_view_name": "HBoxView",
            "box_style": "",
            "children": [
              "IPY_MODEL_e72b99c5aaa1463b8b3035c82b2d7c33",
              "IPY_MODEL_77a47d978a2049c48bb1f0bad60e84d8",
              "IPY_MODEL_425bd259b3244bd5901afccfcdf92847"
            ],
            "layout": "IPY_MODEL_e45fbef7e33549e6af28f3766f397366"
          }
        },
        "205cf734268d441d97a44e2987382438": {
          "model_module": "@jupyter-widgets/controls",
          "model_module_version": "1.5.0",
          "model_name": "DescriptionStyleModel",
          "state": {
            "_model_module": "@jupyter-widgets/controls",
            "_model_module_version": "1.5.0",
            "_model_name": "DescriptionStyleModel",
            "_view_count": null,
            "_view_module": "@jupyter-widgets/base",
            "_view_module_version": "1.2.0",
            "_view_name": "StyleView",
            "description_width": ""
          }
        },
        "2102db8b0c41426b850ec883c1bd3df5": {
          "model_module": "@jupyter-widgets/controls",
          "model_module_version": "1.5.0",
          "model_name": "FloatProgressModel",
          "state": {
            "_dom_classes": [],
            "_model_module": "@jupyter-widgets/controls",
            "_model_module_version": "1.5.0",
            "_model_name": "FloatProgressModel",
            "_view_count": null,
            "_view_module": "@jupyter-widgets/controls",
            "_view_module_version": "1.5.0",
            "_view_name": "ProgressView",
            "bar_style": "success",
            "description": "",
            "description_tooltip": null,
            "layout": "IPY_MODEL_c7d8f4da08314a7792af605fd3f7e3f1",
            "max": 1,
            "min": 0,
            "orientation": "horizontal",
            "style": "IPY_MODEL_fa557356961f47929a52c6b046e29685",
            "value": 1
          }
        },
        "27192b558ee04b8ebe43e9f0282e8fa2": {
          "model_module": "@jupyter-widgets/base",
          "model_module_version": "1.2.0",
          "model_name": "LayoutModel",
          "state": {
            "_model_module": "@jupyter-widgets/base",
            "_model_module_version": "1.2.0",
            "_model_name": "LayoutModel",
            "_view_count": null,
            "_view_module": "@jupyter-widgets/base",
            "_view_module_version": "1.2.0",
            "_view_name": "LayoutView",
            "align_content": null,
            "align_items": null,
            "align_self": null,
            "border": null,
            "bottom": null,
            "display": null,
            "flex": null,
            "flex_flow": null,
            "grid_area": null,
            "grid_auto_columns": null,
            "grid_auto_flow": null,
            "grid_auto_rows": null,
            "grid_column": null,
            "grid_gap": null,
            "grid_row": null,
            "grid_template_areas": null,
            "grid_template_columns": null,
            "grid_template_rows": null,
            "height": null,
            "justify_content": null,
            "justify_items": null,
            "left": null,
            "margin": null,
            "max_height": null,
            "max_width": null,
            "min_height": null,
            "min_width": null,
            "object_fit": null,
            "object_position": null,
            "order": null,
            "overflow": null,
            "overflow_x": null,
            "overflow_y": null,
            "padding": null,
            "right": null,
            "top": null,
            "visibility": null,
            "width": null
          }
        },
        "28dc3a37087a41f9be0bd85e67065be3": {
          "model_module": "@jupyter-widgets/base",
          "model_module_version": "1.2.0",
          "model_name": "LayoutModel",
          "state": {
            "_model_module": "@jupyter-widgets/base",
            "_model_module_version": "1.2.0",
            "_model_name": "LayoutModel",
            "_view_count": null,
            "_view_module": "@jupyter-widgets/base",
            "_view_module_version": "1.2.0",
            "_view_name": "LayoutView",
            "align_content": null,
            "align_items": null,
            "align_self": null,
            "border": null,
            "bottom": null,
            "display": null,
            "flex": null,
            "flex_flow": null,
            "grid_area": null,
            "grid_auto_columns": null,
            "grid_auto_flow": null,
            "grid_auto_rows": null,
            "grid_column": null,
            "grid_gap": null,
            "grid_row": null,
            "grid_template_areas": null,
            "grid_template_columns": null,
            "grid_template_rows": null,
            "height": null,
            "justify_content": null,
            "justify_items": null,
            "left": null,
            "margin": null,
            "max_height": null,
            "max_width": null,
            "min_height": null,
            "min_width": null,
            "object_fit": null,
            "object_position": null,
            "order": null,
            "overflow": null,
            "overflow_x": null,
            "overflow_y": null,
            "padding": null,
            "right": null,
            "top": null,
            "visibility": null,
            "width": null
          }
        },
        "394ea113733c411081c6f6bf90b73048": {
          "model_module": "@jupyter-widgets/controls",
          "model_module_version": "1.5.0",
          "model_name": "DescriptionStyleModel",
          "state": {
            "_model_module": "@jupyter-widgets/controls",
            "_model_module_version": "1.5.0",
            "_model_name": "DescriptionStyleModel",
            "_view_count": null,
            "_view_module": "@jupyter-widgets/base",
            "_view_module_version": "1.2.0",
            "_view_name": "StyleView",
            "description_width": ""
          }
        },
        "3d9a8ab41b2f453cb4d94e7109f790f8": {
          "model_module": "@jupyter-widgets/controls",
          "model_module_version": "1.5.0",
          "model_name": "HBoxModel",
          "state": {
            "_dom_classes": [],
            "_model_module": "@jupyter-widgets/controls",
            "_model_module_version": "1.5.0",
            "_model_name": "HBoxModel",
            "_view_count": null,
            "_view_module": "@jupyter-widgets/controls",
            "_view_module_version": "1.5.0",
            "_view_name": "HBoxView",
            "box_style": "",
            "children": [
              "IPY_MODEL_a2069f0c23ed47958956e9c82be37518",
              "IPY_MODEL_b11eb305fd7549e3b7ea804d4d37e7c7",
              "IPY_MODEL_145d663ce5cd4c96808a36856dd801e6"
            ],
            "layout": "IPY_MODEL_109f148ad3d94684adf98aa98092636c"
          }
        },
        "425bd259b3244bd5901afccfcdf92847": {
          "model_module": "@jupyter-widgets/controls",
          "model_module_version": "1.5.0",
          "model_name": "HTMLModel",
          "state": {
            "_dom_classes": [],
            "_model_module": "@jupyter-widgets/controls",
            "_model_module_version": "1.5.0",
            "_model_name": "HTMLModel",
            "_view_count": null,
            "_view_module": "@jupyter-widgets/controls",
            "_view_module_version": "1.5.0",
            "_view_name": "HTMLView",
            "description": "",
            "description_tooltip": null,
            "layout": "IPY_MODEL_1a6258f75e9e445388ac7e412bc35493",
            "placeholder": "​",
            "style": "IPY_MODEL_0f2d88f43bb74307b6a07f3e229e489e",
            "value": " 0/120000 [00:00&lt;?, ? examples/s]"
          }
        },
        "4370fc629e6a4bb4a3ecdf5af015d9bf": {
          "model_module": "@jupyter-widgets/controls",
          "model_module_version": "1.5.0",
          "model_name": "ProgressStyleModel",
          "state": {
            "_model_module": "@jupyter-widgets/controls",
            "_model_module_version": "1.5.0",
            "_model_name": "ProgressStyleModel",
            "_view_count": null,
            "_view_module": "@jupyter-widgets/base",
            "_view_module_version": "1.2.0",
            "_view_name": "StyleView",
            "bar_color": null,
            "description_width": ""
          }
        },
        "439bab0c18494e388928a01197e53521": {
          "model_module": "@jupyter-widgets/controls",
          "model_module_version": "1.5.0",
          "model_name": "DescriptionStyleModel",
          "state": {
            "_model_module": "@jupyter-widgets/controls",
            "_model_module_version": "1.5.0",
            "_model_name": "DescriptionStyleModel",
            "_view_count": null,
            "_view_module": "@jupyter-widgets/base",
            "_view_module_version": "1.2.0",
            "_view_name": "StyleView",
            "description_width": ""
          }
        },
        "43e7716a540c409b82c2606f1613b357": {
          "model_module": "@jupyter-widgets/controls",
          "model_module_version": "1.5.0",
          "model_name": "HTMLModel",
          "state": {
            "_dom_classes": [],
            "_model_module": "@jupyter-widgets/controls",
            "_model_module_version": "1.5.0",
            "_model_name": "HTMLModel",
            "_view_count": null,
            "_view_module": "@jupyter-widgets/controls",
            "_view_module_version": "1.5.0",
            "_view_name": "HTMLView",
            "description": "",
            "description_tooltip": null,
            "layout": "IPY_MODEL_ebbb61abfe444d5f89fcd2143e43ad77",
            "placeholder": "​",
            "style": "IPY_MODEL_394ea113733c411081c6f6bf90b73048",
            "value": " 117299/120000 [00:15&lt;00:00, 8601.01 examples/s]"
          }
        },
        "49ef7bb0e7d44897901e6d7b2358a3c5": {
          "model_module": "@jupyter-widgets/base",
          "model_module_version": "1.2.0",
          "model_name": "LayoutModel",
          "state": {
            "_model_module": "@jupyter-widgets/base",
            "_model_module_version": "1.2.0",
            "_model_name": "LayoutModel",
            "_view_count": null,
            "_view_module": "@jupyter-widgets/base",
            "_view_module_version": "1.2.0",
            "_view_name": "LayoutView",
            "align_content": null,
            "align_items": null,
            "align_self": null,
            "border": null,
            "bottom": null,
            "display": null,
            "flex": null,
            "flex_flow": null,
            "grid_area": null,
            "grid_auto_columns": null,
            "grid_auto_flow": null,
            "grid_auto_rows": null,
            "grid_column": null,
            "grid_gap": null,
            "grid_row": null,
            "grid_template_areas": null,
            "grid_template_columns": null,
            "grid_template_rows": null,
            "height": null,
            "justify_content": null,
            "justify_items": null,
            "left": null,
            "margin": null,
            "max_height": null,
            "max_width": null,
            "min_height": null,
            "min_width": null,
            "object_fit": null,
            "object_position": null,
            "order": null,
            "overflow": null,
            "overflow_x": null,
            "overflow_y": null,
            "padding": null,
            "right": null,
            "top": null,
            "visibility": null,
            "width": null
          }
        },
        "53a4a7964ec34f309ffb777ded7cc034": {
          "model_module": "@jupyter-widgets/base",
          "model_module_version": "1.2.0",
          "model_name": "LayoutModel",
          "state": {
            "_model_module": "@jupyter-widgets/base",
            "_model_module_version": "1.2.0",
            "_model_name": "LayoutModel",
            "_view_count": null,
            "_view_module": "@jupyter-widgets/base",
            "_view_module_version": "1.2.0",
            "_view_name": "LayoutView",
            "align_content": null,
            "align_items": null,
            "align_self": null,
            "border": null,
            "bottom": null,
            "display": null,
            "flex": null,
            "flex_flow": null,
            "grid_area": null,
            "grid_auto_columns": null,
            "grid_auto_flow": null,
            "grid_auto_rows": null,
            "grid_column": null,
            "grid_gap": null,
            "grid_row": null,
            "grid_template_areas": null,
            "grid_template_columns": null,
            "grid_template_rows": null,
            "height": null,
            "justify_content": null,
            "justify_items": null,
            "left": null,
            "margin": null,
            "max_height": null,
            "max_width": null,
            "min_height": null,
            "min_width": null,
            "object_fit": null,
            "object_position": null,
            "order": null,
            "overflow": null,
            "overflow_x": null,
            "overflow_y": null,
            "padding": null,
            "right": null,
            "top": null,
            "visibility": null,
            "width": null
          }
        },
        "5d6597a9a3f34ff5a0b8588242197c9d": {
          "model_module": "@jupyter-widgets/controls",
          "model_module_version": "1.5.0",
          "model_name": "HTMLModel",
          "state": {
            "_dom_classes": [],
            "_model_module": "@jupyter-widgets/controls",
            "_model_module_version": "1.5.0",
            "_model_name": "HTMLModel",
            "_view_count": null,
            "_view_module": "@jupyter-widgets/controls",
            "_view_module_version": "1.5.0",
            "_view_name": "HTMLView",
            "description": "",
            "description_tooltip": null,
            "layout": "IPY_MODEL_f0501d3099e243d18344f786aeb4ea03",
            "placeholder": "​",
            "style": "IPY_MODEL_e2eb085fa71b41c8aca7b7995a2e9acb",
            "value": " 0/7600 [00:00&lt;?, ? examples/s]"
          }
        },
        "5feebfc59952432ca9614c4304c3d80a": {
          "model_module": "@jupyter-widgets/controls",
          "model_module_version": "1.5.0",
          "model_name": "DescriptionStyleModel",
          "state": {
            "_model_module": "@jupyter-widgets/controls",
            "_model_module_version": "1.5.0",
            "_model_name": "DescriptionStyleModel",
            "_view_count": null,
            "_view_module": "@jupyter-widgets/base",
            "_view_module_version": "1.2.0",
            "_view_name": "StyleView",
            "description_width": ""
          }
        },
        "60d40a5be7604c7982ab67dcea595633": {
          "model_module": "@jupyter-widgets/controls",
          "model_module_version": "1.5.0",
          "model_name": "DescriptionStyleModel",
          "state": {
            "_model_module": "@jupyter-widgets/controls",
            "_model_module_version": "1.5.0",
            "_model_name": "DescriptionStyleModel",
            "_view_count": null,
            "_view_module": "@jupyter-widgets/base",
            "_view_module_version": "1.2.0",
            "_view_name": "StyleView",
            "description_width": ""
          }
        },
        "65374dbaf252417a95025396dac98262": {
          "model_module": "@jupyter-widgets/controls",
          "model_module_version": "1.5.0",
          "model_name": "ProgressStyleModel",
          "state": {
            "_model_module": "@jupyter-widgets/controls",
            "_model_module_version": "1.5.0",
            "_model_name": "ProgressStyleModel",
            "_view_count": null,
            "_view_module": "@jupyter-widgets/base",
            "_view_module_version": "1.2.0",
            "_view_name": "StyleView",
            "bar_color": null,
            "description_width": ""
          }
        },
        "67354d5d38624a848b9405707b74ac02": {
          "model_module": "@jupyter-widgets/controls",
          "model_module_version": "1.5.0",
          "model_name": "FloatProgressModel",
          "state": {
            "_dom_classes": [],
            "_model_module": "@jupyter-widgets/controls",
            "_model_module_version": "1.5.0",
            "_model_name": "FloatProgressModel",
            "_view_count": null,
            "_view_module": "@jupyter-widgets/controls",
            "_view_module_version": "1.5.0",
            "_view_name": "ProgressView",
            "bar_style": "success",
            "description": "",
            "description_tooltip": null,
            "layout": "IPY_MODEL_15bb884ff4ff437589c575fe1b981b96",
            "max": 1,
            "min": 0,
            "orientation": "horizontal",
            "style": "IPY_MODEL_65374dbaf252417a95025396dac98262",
            "value": 1
          }
        },
        "6a3d3ff51aab45e99d200f9beff8f1cc": {
          "model_module": "@jupyter-widgets/controls",
          "model_module_version": "1.5.0",
          "model_name": "HTMLModel",
          "state": {
            "_dom_classes": [],
            "_model_module": "@jupyter-widgets/controls",
            "_model_module_version": "1.5.0",
            "_model_name": "HTMLModel",
            "_view_count": null,
            "_view_module": "@jupyter-widgets/controls",
            "_view_module_version": "1.5.0",
            "_view_name": "HTMLView",
            "description": "",
            "description_tooltip": null,
            "layout": "IPY_MODEL_79ed6dcb7bad4608ae08fb4d2dbcd09d",
            "placeholder": "​",
            "style": "IPY_MODEL_5feebfc59952432ca9614c4304c3d80a",
            "value": " 0/7600 [00:00&lt;?, ? examples/s]"
          }
        },
        "6bff1f4fb49741e0ad77d518b3a3e545": {
          "model_module": "@jupyter-widgets/base",
          "model_module_version": "1.2.0",
          "model_name": "LayoutModel",
          "state": {
            "_model_module": "@jupyter-widgets/base",
            "_model_module_version": "1.2.0",
            "_model_name": "LayoutModel",
            "_view_count": null,
            "_view_module": "@jupyter-widgets/base",
            "_view_module_version": "1.2.0",
            "_view_name": "LayoutView",
            "align_content": null,
            "align_items": null,
            "align_self": null,
            "border": null,
            "bottom": null,
            "display": null,
            "flex": null,
            "flex_flow": null,
            "grid_area": null,
            "grid_auto_columns": null,
            "grid_auto_flow": null,
            "grid_auto_rows": null,
            "grid_column": null,
            "grid_gap": null,
            "grid_row": null,
            "grid_template_areas": null,
            "grid_template_columns": null,
            "grid_template_rows": null,
            "height": null,
            "justify_content": null,
            "justify_items": null,
            "left": null,
            "margin": null,
            "max_height": null,
            "max_width": null,
            "min_height": null,
            "min_width": null,
            "object_fit": null,
            "object_position": null,
            "order": null,
            "overflow": null,
            "overflow_x": null,
            "overflow_y": null,
            "padding": null,
            "right": null,
            "top": null,
            "visibility": null,
            "width": null
          }
        },
        "6eccf21b38534b189a3068ced5ece2f2": {
          "model_module": "@jupyter-widgets/base",
          "model_module_version": "1.2.0",
          "model_name": "LayoutModel",
          "state": {
            "_model_module": "@jupyter-widgets/base",
            "_model_module_version": "1.2.0",
            "_model_name": "LayoutModel",
            "_view_count": null,
            "_view_module": "@jupyter-widgets/base",
            "_view_module_version": "1.2.0",
            "_view_name": "LayoutView",
            "align_content": null,
            "align_items": null,
            "align_self": null,
            "border": null,
            "bottom": null,
            "display": null,
            "flex": null,
            "flex_flow": null,
            "grid_area": null,
            "grid_auto_columns": null,
            "grid_auto_flow": null,
            "grid_auto_rows": null,
            "grid_column": null,
            "grid_gap": null,
            "grid_row": null,
            "grid_template_areas": null,
            "grid_template_columns": null,
            "grid_template_rows": null,
            "height": null,
            "justify_content": null,
            "justify_items": null,
            "left": null,
            "margin": null,
            "max_height": null,
            "max_width": null,
            "min_height": null,
            "min_width": null,
            "object_fit": null,
            "object_position": null,
            "order": null,
            "overflow": null,
            "overflow_x": null,
            "overflow_y": null,
            "padding": null,
            "right": null,
            "top": null,
            "visibility": "hidden",
            "width": null
          }
        },
        "6fa9482ab0574027a39d8825fc23aa36": {
          "model_module": "@jupyter-widgets/controls",
          "model_module_version": "1.5.0",
          "model_name": "FloatProgressModel",
          "state": {
            "_dom_classes": [],
            "_model_module": "@jupyter-widgets/controls",
            "_model_module_version": "1.5.0",
            "_model_name": "FloatProgressModel",
            "_view_count": null,
            "_view_module": "@jupyter-widgets/controls",
            "_view_module_version": "1.5.0",
            "_view_name": "ProgressView",
            "bar_style": "",
            "description": "",
            "description_tooltip": null,
            "layout": "IPY_MODEL_e1f65417d2764da08e1c353c85ecf183",
            "max": 120000,
            "min": 0,
            "orientation": "horizontal",
            "style": "IPY_MODEL_8a80e80d25394123bc31f10361f2a824",
            "value": 120000
          }
        },
        "700b8a9805bf4218833136dec7151436": {
          "model_module": "@jupyter-widgets/controls",
          "model_module_version": "1.5.0",
          "model_name": "DescriptionStyleModel",
          "state": {
            "_model_module": "@jupyter-widgets/controls",
            "_model_module_version": "1.5.0",
            "_model_name": "DescriptionStyleModel",
            "_view_count": null,
            "_view_module": "@jupyter-widgets/base",
            "_view_module_version": "1.2.0",
            "_view_name": "StyleView",
            "description_width": ""
          }
        },
        "73f4cd61e292463f84a43f3d8a94f9f5": {
          "model_module": "@jupyter-widgets/controls",
          "model_module_version": "1.5.0",
          "model_name": "HBoxModel",
          "state": {
            "_dom_classes": [],
            "_model_module": "@jupyter-widgets/controls",
            "_model_module_version": "1.5.0",
            "_model_name": "HBoxModel",
            "_view_count": null,
            "_view_module": "@jupyter-widgets/controls",
            "_view_module_version": "1.5.0",
            "_view_name": "HBoxView",
            "box_style": "",
            "children": [
              "IPY_MODEL_9a01f5ee6dcf492d8918fd84e2cd3248",
              "IPY_MODEL_67354d5d38624a848b9405707b74ac02",
              "IPY_MODEL_0318381407214437b84c687d6ca49423"
            ],
            "layout": "IPY_MODEL_df3618a5155e4abbbbecc4715c54d7ba"
          }
        },
        "7720f116460e486d93f704af282d7734": {
          "model_module": "@jupyter-widgets/base",
          "model_module_version": "1.2.0",
          "model_name": "LayoutModel",
          "state": {
            "_model_module": "@jupyter-widgets/base",
            "_model_module_version": "1.2.0",
            "_model_name": "LayoutModel",
            "_view_count": null,
            "_view_module": "@jupyter-widgets/base",
            "_view_module_version": "1.2.0",
            "_view_name": "LayoutView",
            "align_content": null,
            "align_items": null,
            "align_self": null,
            "border": null,
            "bottom": null,
            "display": null,
            "flex": null,
            "flex_flow": null,
            "grid_area": null,
            "grid_auto_columns": null,
            "grid_auto_flow": null,
            "grid_auto_rows": null,
            "grid_column": null,
            "grid_gap": null,
            "grid_row": null,
            "grid_template_areas": null,
            "grid_template_columns": null,
            "grid_template_rows": null,
            "height": null,
            "justify_content": null,
            "justify_items": null,
            "left": null,
            "margin": null,
            "max_height": null,
            "max_width": null,
            "min_height": null,
            "min_width": null,
            "object_fit": null,
            "object_position": null,
            "order": null,
            "overflow": null,
            "overflow_x": null,
            "overflow_y": null,
            "padding": null,
            "right": null,
            "top": null,
            "visibility": null,
            "width": null
          }
        },
        "77a47d978a2049c48bb1f0bad60e84d8": {
          "model_module": "@jupyter-widgets/controls",
          "model_module_version": "1.5.0",
          "model_name": "FloatProgressModel",
          "state": {
            "_dom_classes": [],
            "_model_module": "@jupyter-widgets/controls",
            "_model_module_version": "1.5.0",
            "_model_name": "FloatProgressModel",
            "_view_count": null,
            "_view_module": "@jupyter-widgets/controls",
            "_view_module_version": "1.5.0",
            "_view_name": "ProgressView",
            "bar_style": "",
            "description": "",
            "description_tooltip": null,
            "layout": "IPY_MODEL_49ef7bb0e7d44897901e6d7b2358a3c5",
            "max": 120000,
            "min": 0,
            "orientation": "horizontal",
            "style": "IPY_MODEL_89b40721b31f474caa29c480799bd0cf",
            "value": 120000
          }
        },
        "78cb0b205a414f9bbb7b0eb935ae2ffe": {
          "model_module": "@jupyter-widgets/base",
          "model_module_version": "1.2.0",
          "model_name": "LayoutModel",
          "state": {
            "_model_module": "@jupyter-widgets/base",
            "_model_module_version": "1.2.0",
            "_model_name": "LayoutModel",
            "_view_count": null,
            "_view_module": "@jupyter-widgets/base",
            "_view_module_version": "1.2.0",
            "_view_name": "LayoutView",
            "align_content": null,
            "align_items": null,
            "align_self": null,
            "border": null,
            "bottom": null,
            "display": null,
            "flex": null,
            "flex_flow": null,
            "grid_area": null,
            "grid_auto_columns": null,
            "grid_auto_flow": null,
            "grid_auto_rows": null,
            "grid_column": null,
            "grid_gap": null,
            "grid_row": null,
            "grid_template_areas": null,
            "grid_template_columns": null,
            "grid_template_rows": null,
            "height": null,
            "justify_content": null,
            "justify_items": null,
            "left": null,
            "margin": null,
            "max_height": null,
            "max_width": null,
            "min_height": null,
            "min_width": null,
            "object_fit": null,
            "object_position": null,
            "order": null,
            "overflow": null,
            "overflow_x": null,
            "overflow_y": null,
            "padding": null,
            "right": null,
            "top": null,
            "visibility": null,
            "width": "20px"
          }
        },
        "79ed6dcb7bad4608ae08fb4d2dbcd09d": {
          "model_module": "@jupyter-widgets/base",
          "model_module_version": "1.2.0",
          "model_name": "LayoutModel",
          "state": {
            "_model_module": "@jupyter-widgets/base",
            "_model_module_version": "1.2.0",
            "_model_name": "LayoutModel",
            "_view_count": null,
            "_view_module": "@jupyter-widgets/base",
            "_view_module_version": "1.2.0",
            "_view_name": "LayoutView",
            "align_content": null,
            "align_items": null,
            "align_self": null,
            "border": null,
            "bottom": null,
            "display": null,
            "flex": null,
            "flex_flow": null,
            "grid_area": null,
            "grid_auto_columns": null,
            "grid_auto_flow": null,
            "grid_auto_rows": null,
            "grid_column": null,
            "grid_gap": null,
            "grid_row": null,
            "grid_template_areas": null,
            "grid_template_columns": null,
            "grid_template_rows": null,
            "height": null,
            "justify_content": null,
            "justify_items": null,
            "left": null,
            "margin": null,
            "max_height": null,
            "max_width": null,
            "min_height": null,
            "min_width": null,
            "object_fit": null,
            "object_position": null,
            "order": null,
            "overflow": null,
            "overflow_x": null,
            "overflow_y": null,
            "padding": null,
            "right": null,
            "top": null,
            "visibility": null,
            "width": null
          }
        },
        "7a87a8aed1a84f22a66da06bf91ccb07": {
          "model_module": "@jupyter-widgets/base",
          "model_module_version": "1.2.0",
          "model_name": "LayoutModel",
          "state": {
            "_model_module": "@jupyter-widgets/base",
            "_model_module_version": "1.2.0",
            "_model_name": "LayoutModel",
            "_view_count": null,
            "_view_module": "@jupyter-widgets/base",
            "_view_module_version": "1.2.0",
            "_view_name": "LayoutView",
            "align_content": null,
            "align_items": null,
            "align_self": null,
            "border": null,
            "bottom": null,
            "display": null,
            "flex": null,
            "flex_flow": null,
            "grid_area": null,
            "grid_auto_columns": null,
            "grid_auto_flow": null,
            "grid_auto_rows": null,
            "grid_column": null,
            "grid_gap": null,
            "grid_row": null,
            "grid_template_areas": null,
            "grid_template_columns": null,
            "grid_template_rows": null,
            "height": null,
            "justify_content": null,
            "justify_items": null,
            "left": null,
            "margin": null,
            "max_height": null,
            "max_width": null,
            "min_height": null,
            "min_width": null,
            "object_fit": null,
            "object_position": null,
            "order": null,
            "overflow": null,
            "overflow_x": null,
            "overflow_y": null,
            "padding": null,
            "right": null,
            "top": null,
            "visibility": "hidden",
            "width": null
          }
        },
        "7e65894bf3f245f1b6cfa67d633d2297": {
          "model_module": "@jupyter-widgets/base",
          "model_module_version": "1.2.0",
          "model_name": "LayoutModel",
          "state": {
            "_model_module": "@jupyter-widgets/base",
            "_model_module_version": "1.2.0",
            "_model_name": "LayoutModel",
            "_view_count": null,
            "_view_module": "@jupyter-widgets/base",
            "_view_module_version": "1.2.0",
            "_view_name": "LayoutView",
            "align_content": null,
            "align_items": null,
            "align_self": null,
            "border": null,
            "bottom": null,
            "display": null,
            "flex": null,
            "flex_flow": null,
            "grid_area": null,
            "grid_auto_columns": null,
            "grid_auto_flow": null,
            "grid_auto_rows": null,
            "grid_column": null,
            "grid_gap": null,
            "grid_row": null,
            "grid_template_areas": null,
            "grid_template_columns": null,
            "grid_template_rows": null,
            "height": null,
            "justify_content": null,
            "justify_items": null,
            "left": null,
            "margin": null,
            "max_height": null,
            "max_width": null,
            "min_height": null,
            "min_width": null,
            "object_fit": null,
            "object_position": null,
            "order": null,
            "overflow": null,
            "overflow_x": null,
            "overflow_y": null,
            "padding": null,
            "right": null,
            "top": null,
            "visibility": null,
            "width": null
          }
        },
        "838b416eea4a464cafef38ce59d635f5": {
          "model_module": "@jupyter-widgets/controls",
          "model_module_version": "1.5.0",
          "model_name": "HTMLModel",
          "state": {
            "_dom_classes": [],
            "_model_module": "@jupyter-widgets/controls",
            "_model_module_version": "1.5.0",
            "_model_name": "HTMLModel",
            "_view_count": null,
            "_view_module": "@jupyter-widgets/controls",
            "_view_module_version": "1.5.0",
            "_view_name": "HTMLView",
            "description": "",
            "description_tooltip": null,
            "layout": "IPY_MODEL_9ab12f786f8948ffaaeba4ed08fb26a9",
            "placeholder": "​",
            "style": "IPY_MODEL_e4cbaa46fedd4dcbab49120b2607b30f",
            "value": "Dl Completed...: 100%"
          }
        },
        "83bd67bdba38494d87a34cdb187f9786": {
          "model_module": "@jupyter-widgets/base",
          "model_module_version": "1.2.0",
          "model_name": "LayoutModel",
          "state": {
            "_model_module": "@jupyter-widgets/base",
            "_model_module_version": "1.2.0",
            "_model_name": "LayoutModel",
            "_view_count": null,
            "_view_module": "@jupyter-widgets/base",
            "_view_module_version": "1.2.0",
            "_view_name": "LayoutView",
            "align_content": null,
            "align_items": null,
            "align_self": null,
            "border": null,
            "bottom": null,
            "display": null,
            "flex": null,
            "flex_flow": null,
            "grid_area": null,
            "grid_auto_columns": null,
            "grid_auto_flow": null,
            "grid_auto_rows": null,
            "grid_column": null,
            "grid_gap": null,
            "grid_row": null,
            "grid_template_areas": null,
            "grid_template_columns": null,
            "grid_template_rows": null,
            "height": null,
            "justify_content": null,
            "justify_items": null,
            "left": null,
            "margin": null,
            "max_height": null,
            "max_width": null,
            "min_height": null,
            "min_width": null,
            "object_fit": null,
            "object_position": null,
            "order": null,
            "overflow": null,
            "overflow_x": null,
            "overflow_y": null,
            "padding": null,
            "right": null,
            "top": null,
            "visibility": null,
            "width": null
          }
        },
        "855c09a80ed54d2899f789d0baac2dee": {
          "model_module": "@jupyter-widgets/controls",
          "model_module_version": "1.5.0",
          "model_name": "HTMLModel",
          "state": {
            "_dom_classes": [],
            "_model_module": "@jupyter-widgets/controls",
            "_model_module_version": "1.5.0",
            "_model_name": "HTMLModel",
            "_view_count": null,
            "_view_module": "@jupyter-widgets/controls",
            "_view_module_version": "1.5.0",
            "_view_name": "HTMLView",
            "description": "",
            "description_tooltip": null,
            "layout": "IPY_MODEL_6bff1f4fb49741e0ad77d518b3a3e545",
            "placeholder": "​",
            "style": "IPY_MODEL_205cf734268d441d97a44e2987382438",
            "value": "Shuffling /root/tensorflow_datasets/ag_news_subset/incomplete.KIR9TF_1.0.0/ag_news_subset-test.tfrecord*...:   0%"
          }
        },
        "8600ae8934324e8ba8c4d37ce861a43e": {
          "model_module": "@jupyter-widgets/controls",
          "model_module_version": "1.5.0",
          "model_name": "DescriptionStyleModel",
          "state": {
            "_model_module": "@jupyter-widgets/controls",
            "_model_module_version": "1.5.0",
            "_model_name": "DescriptionStyleModel",
            "_view_count": null,
            "_view_module": "@jupyter-widgets/base",
            "_view_module_version": "1.2.0",
            "_view_name": "StyleView",
            "description_width": ""
          }
        },
        "866860c324e048d0802640caee8c6be5": {
          "model_module": "@jupyter-widgets/controls",
          "model_module_version": "1.5.0",
          "model_name": "FloatProgressModel",
          "state": {
            "_dom_classes": [],
            "_model_module": "@jupyter-widgets/controls",
            "_model_module_version": "1.5.0",
            "_model_name": "FloatProgressModel",
            "_view_count": null,
            "_view_module": "@jupyter-widgets/controls",
            "_view_module_version": "1.5.0",
            "_view_name": "ProgressView",
            "bar_style": "",
            "description": "",
            "description_tooltip": null,
            "layout": "IPY_MODEL_83bd67bdba38494d87a34cdb187f9786",
            "max": 2,
            "min": 0,
            "orientation": "horizontal",
            "style": "IPY_MODEL_8c828164cf154e05b9e1b6182f622fc0",
            "value": 2
          }
        },
        "884d5f1618f047baaa6871f4e04b45ef": {
          "model_module": "@jupyter-widgets/base",
          "model_module_version": "1.2.0",
          "model_name": "LayoutModel",
          "state": {
            "_model_module": "@jupyter-widgets/base",
            "_model_module_version": "1.2.0",
            "_model_name": "LayoutModel",
            "_view_count": null,
            "_view_module": "@jupyter-widgets/base",
            "_view_module_version": "1.2.0",
            "_view_name": "LayoutView",
            "align_content": null,
            "align_items": null,
            "align_self": null,
            "border": null,
            "bottom": null,
            "display": null,
            "flex": null,
            "flex_flow": null,
            "grid_area": null,
            "grid_auto_columns": null,
            "grid_auto_flow": null,
            "grid_auto_rows": null,
            "grid_column": null,
            "grid_gap": null,
            "grid_row": null,
            "grid_template_areas": null,
            "grid_template_columns": null,
            "grid_template_rows": null,
            "height": null,
            "justify_content": null,
            "justify_items": null,
            "left": null,
            "margin": null,
            "max_height": null,
            "max_width": null,
            "min_height": null,
            "min_width": null,
            "object_fit": null,
            "object_position": null,
            "order": null,
            "overflow": null,
            "overflow_x": null,
            "overflow_y": null,
            "padding": null,
            "right": null,
            "top": null,
            "visibility": null,
            "width": null
          }
        },
        "89b40721b31f474caa29c480799bd0cf": {
          "model_module": "@jupyter-widgets/controls",
          "model_module_version": "1.5.0",
          "model_name": "ProgressStyleModel",
          "state": {
            "_model_module": "@jupyter-widgets/controls",
            "_model_module_version": "1.5.0",
            "_model_name": "ProgressStyleModel",
            "_view_count": null,
            "_view_module": "@jupyter-widgets/base",
            "_view_module_version": "1.2.0",
            "_view_name": "StyleView",
            "bar_color": null,
            "description_width": ""
          }
        },
        "8a80e80d25394123bc31f10361f2a824": {
          "model_module": "@jupyter-widgets/controls",
          "model_module_version": "1.5.0",
          "model_name": "ProgressStyleModel",
          "state": {
            "_model_module": "@jupyter-widgets/controls",
            "_model_module_version": "1.5.0",
            "_model_name": "ProgressStyleModel",
            "_view_count": null,
            "_view_module": "@jupyter-widgets/base",
            "_view_module_version": "1.2.0",
            "_view_name": "StyleView",
            "bar_color": null,
            "description_width": ""
          }
        },
        "8c828164cf154e05b9e1b6182f622fc0": {
          "model_module": "@jupyter-widgets/controls",
          "model_module_version": "1.5.0",
          "model_name": "ProgressStyleModel",
          "state": {
            "_model_module": "@jupyter-widgets/controls",
            "_model_module_version": "1.5.0",
            "_model_name": "ProgressStyleModel",
            "_view_count": null,
            "_view_module": "@jupyter-widgets/base",
            "_view_module_version": "1.2.0",
            "_view_name": "StyleView",
            "bar_color": null,
            "description_width": ""
          }
        },
        "8e00432f19354e79b1279538aacc01f8": {
          "model_module": "@jupyter-widgets/base",
          "model_module_version": "1.2.0",
          "model_name": "LayoutModel",
          "state": {
            "_model_module": "@jupyter-widgets/base",
            "_model_module_version": "1.2.0",
            "_model_name": "LayoutModel",
            "_view_count": null,
            "_view_module": "@jupyter-widgets/base",
            "_view_module_version": "1.2.0",
            "_view_name": "LayoutView",
            "align_content": null,
            "align_items": null,
            "align_self": null,
            "border": null,
            "bottom": null,
            "display": null,
            "flex": null,
            "flex_flow": null,
            "grid_area": null,
            "grid_auto_columns": null,
            "grid_auto_flow": null,
            "grid_auto_rows": null,
            "grid_column": null,
            "grid_gap": null,
            "grid_row": null,
            "grid_template_areas": null,
            "grid_template_columns": null,
            "grid_template_rows": null,
            "height": null,
            "justify_content": null,
            "justify_items": null,
            "left": null,
            "margin": null,
            "max_height": null,
            "max_width": null,
            "min_height": null,
            "min_width": null,
            "object_fit": null,
            "object_position": null,
            "order": null,
            "overflow": null,
            "overflow_x": null,
            "overflow_y": null,
            "padding": null,
            "right": null,
            "top": null,
            "visibility": "hidden",
            "width": null
          }
        },
        "96e70d286a38495daa42de05cf21a55d": {
          "model_module": "@jupyter-widgets/controls",
          "model_module_version": "1.5.0",
          "model_name": "FloatProgressModel",
          "state": {
            "_dom_classes": [],
            "_model_module": "@jupyter-widgets/controls",
            "_model_module_version": "1.5.0",
            "_model_name": "FloatProgressModel",
            "_view_count": null,
            "_view_module": "@jupyter-widgets/controls",
            "_view_module_version": "1.5.0",
            "_view_name": "ProgressView",
            "bar_style": "",
            "description": "",
            "description_tooltip": null,
            "layout": "IPY_MODEL_28dc3a37087a41f9be0bd85e67065be3",
            "max": 7600,
            "min": 0,
            "orientation": "horizontal",
            "style": "IPY_MODEL_4370fc629e6a4bb4a3ecdf5af015d9bf",
            "value": 7600
          }
        },
        "9a01f5ee6dcf492d8918fd84e2cd3248": {
          "model_module": "@jupyter-widgets/controls",
          "model_module_version": "1.5.0",
          "model_name": "HTMLModel",
          "state": {
            "_dom_classes": [],
            "_model_module": "@jupyter-widgets/controls",
            "_model_module_version": "1.5.0",
            "_model_name": "HTMLModel",
            "_view_count": null,
            "_view_module": "@jupyter-widgets/controls",
            "_view_module_version": "1.5.0",
            "_view_name": "HTMLView",
            "description": "",
            "description_tooltip": null,
            "layout": "IPY_MODEL_d5f7180917e144ba9b10cc48d01c0d87",
            "placeholder": "​",
            "style": "IPY_MODEL_0dfa9a512f44491eae9e25f82b8eed8a",
            "value": "Extraction completed...: 100%"
          }
        },
        "9ab12f786f8948ffaaeba4ed08fb26a9": {
          "model_module": "@jupyter-widgets/base",
          "model_module_version": "1.2.0",
          "model_name": "LayoutModel",
          "state": {
            "_model_module": "@jupyter-widgets/base",
            "_model_module_version": "1.2.0",
            "_model_name": "LayoutModel",
            "_view_count": null,
            "_view_module": "@jupyter-widgets/base",
            "_view_module_version": "1.2.0",
            "_view_name": "LayoutView",
            "align_content": null,
            "align_items": null,
            "align_self": null,
            "border": null,
            "bottom": null,
            "display": null,
            "flex": null,
            "flex_flow": null,
            "grid_area": null,
            "grid_auto_columns": null,
            "grid_auto_flow": null,
            "grid_auto_rows": null,
            "grid_column": null,
            "grid_gap": null,
            "grid_row": null,
            "grid_template_areas": null,
            "grid_template_columns": null,
            "grid_template_rows": null,
            "height": null,
            "justify_content": null,
            "justify_items": null,
            "left": null,
            "margin": null,
            "max_height": null,
            "max_width": null,
            "min_height": null,
            "min_width": null,
            "object_fit": null,
            "object_position": null,
            "order": null,
            "overflow": null,
            "overflow_x": null,
            "overflow_y": null,
            "padding": null,
            "right": null,
            "top": null,
            "visibility": null,
            "width": null
          }
        },
        "9dc54804bb9e4f5e95e11c8096cf9ee7": {
          "model_module": "@jupyter-widgets/controls",
          "model_module_version": "1.5.0",
          "model_name": "DescriptionStyleModel",
          "state": {
            "_model_module": "@jupyter-widgets/controls",
            "_model_module_version": "1.5.0",
            "_model_name": "DescriptionStyleModel",
            "_view_count": null,
            "_view_module": "@jupyter-widgets/base",
            "_view_module_version": "1.2.0",
            "_view_name": "StyleView",
            "description_width": ""
          }
        },
        "a2069f0c23ed47958956e9c82be37518": {
          "model_module": "@jupyter-widgets/controls",
          "model_module_version": "1.5.0",
          "model_name": "HTMLModel",
          "state": {
            "_dom_classes": [],
            "_model_module": "@jupyter-widgets/controls",
            "_model_module_version": "1.5.0",
            "_model_name": "HTMLModel",
            "_view_count": null,
            "_view_module": "@jupyter-widgets/controls",
            "_view_module_version": "1.5.0",
            "_view_name": "HTMLView",
            "description": "",
            "description_tooltip": null,
            "layout": "IPY_MODEL_53a4a7964ec34f309ffb777ded7cc034",
            "placeholder": "​",
            "style": "IPY_MODEL_8600ae8934324e8ba8c4d37ce861a43e",
            "value": "Dl Size...: 100%"
          }
        },
        "aa9dbbfaa61948bfa751e7e6dc15d671": {
          "model_module": "@jupyter-widgets/base",
          "model_module_version": "1.2.0",
          "model_name": "LayoutModel",
          "state": {
            "_model_module": "@jupyter-widgets/base",
            "_model_module_version": "1.2.0",
            "_model_name": "LayoutModel",
            "_view_count": null,
            "_view_module": "@jupyter-widgets/base",
            "_view_module_version": "1.2.0",
            "_view_name": "LayoutView",
            "align_content": null,
            "align_items": null,
            "align_self": null,
            "border": null,
            "bottom": null,
            "display": null,
            "flex": null,
            "flex_flow": null,
            "grid_area": null,
            "grid_auto_columns": null,
            "grid_auto_flow": null,
            "grid_auto_rows": null,
            "grid_column": null,
            "grid_gap": null,
            "grid_row": null,
            "grid_template_areas": null,
            "grid_template_columns": null,
            "grid_template_rows": null,
            "height": null,
            "justify_content": null,
            "justify_items": null,
            "left": null,
            "margin": null,
            "max_height": null,
            "max_width": null,
            "min_height": null,
            "min_width": null,
            "object_fit": null,
            "object_position": null,
            "order": null,
            "overflow": null,
            "overflow_x": null,
            "overflow_y": null,
            "padding": null,
            "right": null,
            "top": null,
            "visibility": null,
            "width": null
          }
        },
        "b0e18a630be641a1be1f44b49c2235ab": {
          "model_module": "@jupyter-widgets/controls",
          "model_module_version": "1.5.0",
          "model_name": "HTMLModel",
          "state": {
            "_dom_classes": [],
            "_model_module": "@jupyter-widgets/controls",
            "_model_module_version": "1.5.0",
            "_model_name": "HTMLModel",
            "_view_count": null,
            "_view_module": "@jupyter-widgets/controls",
            "_view_module_version": "1.5.0",
            "_view_name": "HTMLView",
            "description": "",
            "description_tooltip": null,
            "layout": "IPY_MODEL_180cca0a8b9548db88ec5893bc58c75f",
            "placeholder": "​",
            "style": "IPY_MODEL_fbc108b917484c28a891859c2fdba763",
            "value": "Generating test examples...:   0%"
          }
        },
        "b11eb305fd7549e3b7ea804d4d37e7c7": {
          "model_module": "@jupyter-widgets/controls",
          "model_module_version": "1.5.0",
          "model_name": "FloatProgressModel",
          "state": {
            "_dom_classes": [],
            "_model_module": "@jupyter-widgets/controls",
            "_model_module_version": "1.5.0",
            "_model_name": "FloatProgressModel",
            "_view_count": null,
            "_view_module": "@jupyter-widgets/controls",
            "_view_module_version": "1.5.0",
            "_view_name": "ProgressView",
            "bar_style": "success",
            "description": "",
            "description_tooltip": null,
            "layout": "IPY_MODEL_78cb0b205a414f9bbb7b0eb935ae2ffe",
            "max": 1,
            "min": 0,
            "orientation": "horizontal",
            "style": "IPY_MODEL_ba4a3673a5d44177873db0b82b0518aa",
            "value": 1
          }
        },
        "b26ee6fce1ba46b3b0ce7b72ccced593": {
          "model_module": "@jupyter-widgets/controls",
          "model_module_version": "1.5.0",
          "model_name": "HBoxModel",
          "state": {
            "_dom_classes": [],
            "_model_module": "@jupyter-widgets/controls",
            "_model_module_version": "1.5.0",
            "_model_name": "HBoxModel",
            "_view_count": null,
            "_view_module": "@jupyter-widgets/controls",
            "_view_module_version": "1.5.0",
            "_view_name": "HBoxView",
            "box_style": "",
            "children": [
              "IPY_MODEL_c6a5b0146ebb4c71bdfd511c7515efcb",
              "IPY_MODEL_866860c324e048d0802640caee8c6be5",
              "IPY_MODEL_b9dc9599e31145f2bd91dcde720dbeaf"
            ],
            "layout": "IPY_MODEL_7a87a8aed1a84f22a66da06bf91ccb07"
          }
        },
        "b2eb8060134b4a6c9c59f9ab98115cf0": {
          "model_module": "@jupyter-widgets/controls",
          "model_module_version": "1.5.0",
          "model_name": "HBoxModel",
          "state": {
            "_dom_classes": [],
            "_model_module": "@jupyter-widgets/controls",
            "_model_module_version": "1.5.0",
            "_model_name": "HBoxModel",
            "_view_count": null,
            "_view_module": "@jupyter-widgets/controls",
            "_view_module_version": "1.5.0",
            "_view_name": "HBoxView",
            "box_style": "",
            "children": [
              "IPY_MODEL_838b416eea4a464cafef38ce59d635f5",
              "IPY_MODEL_2102db8b0c41426b850ec883c1bd3df5",
              "IPY_MODEL_e097a557aa914fc0af8c8619422e48fe"
            ],
            "layout": "IPY_MODEL_27192b558ee04b8ebe43e9f0282e8fa2"
          }
        },
        "b9dc9599e31145f2bd91dcde720dbeaf": {
          "model_module": "@jupyter-widgets/controls",
          "model_module_version": "1.5.0",
          "model_name": "HTMLModel",
          "state": {
            "_dom_classes": [],
            "_model_module": "@jupyter-widgets/controls",
            "_model_module_version": "1.5.0",
            "_model_name": "HTMLModel",
            "_view_count": null,
            "_view_module": "@jupyter-widgets/controls",
            "_view_module_version": "1.5.0",
            "_view_name": "HTMLView",
            "description": "",
            "description_tooltip": null,
            "layout": "IPY_MODEL_c9f1b4a9d14c480b822f0de2274bf881",
            "placeholder": "​",
            "style": "IPY_MODEL_60d40a5be7604c7982ab67dcea595633",
            "value": " 2/2 [00:17&lt;00:00,  7.27s/ splits]"
          }
        },
        "ba4a3673a5d44177873db0b82b0518aa": {
          "model_module": "@jupyter-widgets/controls",
          "model_module_version": "1.5.0",
          "model_name": "ProgressStyleModel",
          "state": {
            "_model_module": "@jupyter-widgets/controls",
            "_model_module_version": "1.5.0",
            "_model_name": "ProgressStyleModel",
            "_view_count": null,
            "_view_module": "@jupyter-widgets/base",
            "_view_module_version": "1.2.0",
            "_view_name": "StyleView",
            "bar_color": null,
            "description_width": ""
          }
        },
        "c1cdd11a452c4dda9fba925eb39ec672": {
          "model_module": "@jupyter-widgets/base",
          "model_module_version": "1.2.0",
          "model_name": "LayoutModel",
          "state": {
            "_model_module": "@jupyter-widgets/base",
            "_model_module_version": "1.2.0",
            "_model_name": "LayoutModel",
            "_view_count": null,
            "_view_module": "@jupyter-widgets/base",
            "_view_module_version": "1.2.0",
            "_view_name": "LayoutView",
            "align_content": null,
            "align_items": null,
            "align_self": null,
            "border": null,
            "bottom": null,
            "display": null,
            "flex": null,
            "flex_flow": null,
            "grid_area": null,
            "grid_auto_columns": null,
            "grid_auto_flow": null,
            "grid_auto_rows": null,
            "grid_column": null,
            "grid_gap": null,
            "grid_row": null,
            "grid_template_areas": null,
            "grid_template_columns": null,
            "grid_template_rows": null,
            "height": null,
            "justify_content": null,
            "justify_items": null,
            "left": null,
            "margin": null,
            "max_height": null,
            "max_width": null,
            "min_height": null,
            "min_width": null,
            "object_fit": null,
            "object_position": null,
            "order": null,
            "overflow": null,
            "overflow_x": null,
            "overflow_y": null,
            "padding": null,
            "right": null,
            "top": null,
            "visibility": null,
            "width": null
          }
        },
        "c6a5b0146ebb4c71bdfd511c7515efcb": {
          "model_module": "@jupyter-widgets/controls",
          "model_module_version": "1.5.0",
          "model_name": "HTMLModel",
          "state": {
            "_dom_classes": [],
            "_model_module": "@jupyter-widgets/controls",
            "_model_module_version": "1.5.0",
            "_model_name": "HTMLModel",
            "_view_count": null,
            "_view_module": "@jupyter-widgets/controls",
            "_view_module_version": "1.5.0",
            "_view_name": "HTMLView",
            "description": "",
            "description_tooltip": null,
            "layout": "IPY_MODEL_c1cdd11a452c4dda9fba925eb39ec672",
            "placeholder": "​",
            "style": "IPY_MODEL_700b8a9805bf4218833136dec7151436",
            "value": "Generating splits...: 100%"
          }
        },
        "c7d8f4da08314a7792af605fd3f7e3f1": {
          "model_module": "@jupyter-widgets/base",
          "model_module_version": "1.2.0",
          "model_name": "LayoutModel",
          "state": {
            "_model_module": "@jupyter-widgets/base",
            "_model_module_version": "1.2.0",
            "_model_name": "LayoutModel",
            "_view_count": null,
            "_view_module": "@jupyter-widgets/base",
            "_view_module_version": "1.2.0",
            "_view_name": "LayoutView",
            "align_content": null,
            "align_items": null,
            "align_self": null,
            "border": null,
            "bottom": null,
            "display": null,
            "flex": null,
            "flex_flow": null,
            "grid_area": null,
            "grid_auto_columns": null,
            "grid_auto_flow": null,
            "grid_auto_rows": null,
            "grid_column": null,
            "grid_gap": null,
            "grid_row": null,
            "grid_template_areas": null,
            "grid_template_columns": null,
            "grid_template_rows": null,
            "height": null,
            "justify_content": null,
            "justify_items": null,
            "left": null,
            "margin": null,
            "max_height": null,
            "max_width": null,
            "min_height": null,
            "min_width": null,
            "object_fit": null,
            "object_position": null,
            "order": null,
            "overflow": null,
            "overflow_x": null,
            "overflow_y": null,
            "padding": null,
            "right": null,
            "top": null,
            "visibility": null,
            "width": "20px"
          }
        },
        "c9f1b4a9d14c480b822f0de2274bf881": {
          "model_module": "@jupyter-widgets/base",
          "model_module_version": "1.2.0",
          "model_name": "LayoutModel",
          "state": {
            "_model_module": "@jupyter-widgets/base",
            "_model_module_version": "1.2.0",
            "_model_name": "LayoutModel",
            "_view_count": null,
            "_view_module": "@jupyter-widgets/base",
            "_view_module_version": "1.2.0",
            "_view_name": "LayoutView",
            "align_content": null,
            "align_items": null,
            "align_self": null,
            "border": null,
            "bottom": null,
            "display": null,
            "flex": null,
            "flex_flow": null,
            "grid_area": null,
            "grid_auto_columns": null,
            "grid_auto_flow": null,
            "grid_auto_rows": null,
            "grid_column": null,
            "grid_gap": null,
            "grid_row": null,
            "grid_template_areas": null,
            "grid_template_columns": null,
            "grid_template_rows": null,
            "height": null,
            "justify_content": null,
            "justify_items": null,
            "left": null,
            "margin": null,
            "max_height": null,
            "max_width": null,
            "min_height": null,
            "min_width": null,
            "object_fit": null,
            "object_position": null,
            "order": null,
            "overflow": null,
            "overflow_x": null,
            "overflow_y": null,
            "padding": null,
            "right": null,
            "top": null,
            "visibility": null,
            "width": null
          }
        },
        "d5f7180917e144ba9b10cc48d01c0d87": {
          "model_module": "@jupyter-widgets/base",
          "model_module_version": "1.2.0",
          "model_name": "LayoutModel",
          "state": {
            "_model_module": "@jupyter-widgets/base",
            "_model_module_version": "1.2.0",
            "_model_name": "LayoutModel",
            "_view_count": null,
            "_view_module": "@jupyter-widgets/base",
            "_view_module_version": "1.2.0",
            "_view_name": "LayoutView",
            "align_content": null,
            "align_items": null,
            "align_self": null,
            "border": null,
            "bottom": null,
            "display": null,
            "flex": null,
            "flex_flow": null,
            "grid_area": null,
            "grid_auto_columns": null,
            "grid_auto_flow": null,
            "grid_auto_rows": null,
            "grid_column": null,
            "grid_gap": null,
            "grid_row": null,
            "grid_template_areas": null,
            "grid_template_columns": null,
            "grid_template_rows": null,
            "height": null,
            "justify_content": null,
            "justify_items": null,
            "left": null,
            "margin": null,
            "max_height": null,
            "max_width": null,
            "min_height": null,
            "min_width": null,
            "object_fit": null,
            "object_position": null,
            "order": null,
            "overflow": null,
            "overflow_x": null,
            "overflow_y": null,
            "padding": null,
            "right": null,
            "top": null,
            "visibility": null,
            "width": null
          }
        },
        "dd96c526af1f47eab8c5ab453df23a01": {
          "model_module": "@jupyter-widgets/controls",
          "model_module_version": "1.5.0",
          "model_name": "HBoxModel",
          "state": {
            "_dom_classes": [],
            "_model_module": "@jupyter-widgets/controls",
            "_model_module_version": "1.5.0",
            "_model_name": "HBoxModel",
            "_view_count": null,
            "_view_module": "@jupyter-widgets/controls",
            "_view_module_version": "1.5.0",
            "_view_name": "HBoxView",
            "box_style": "",
            "children": [
              "IPY_MODEL_082bef9a762641b3824988f28d832527",
              "IPY_MODEL_6fa9482ab0574027a39d8825fc23aa36",
              "IPY_MODEL_43e7716a540c409b82c2606f1613b357"
            ],
            "layout": "IPY_MODEL_6eccf21b38534b189a3068ced5ece2f2"
          }
        },
        "df3618a5155e4abbbbecc4715c54d7ba": {
          "model_module": "@jupyter-widgets/base",
          "model_module_version": "1.2.0",
          "model_name": "LayoutModel",
          "state": {
            "_model_module": "@jupyter-widgets/base",
            "_model_module_version": "1.2.0",
            "_model_name": "LayoutModel",
            "_view_count": null,
            "_view_module": "@jupyter-widgets/base",
            "_view_module_version": "1.2.0",
            "_view_name": "LayoutView",
            "align_content": null,
            "align_items": null,
            "align_self": null,
            "border": null,
            "bottom": null,
            "display": null,
            "flex": null,
            "flex_flow": null,
            "grid_area": null,
            "grid_auto_columns": null,
            "grid_auto_flow": null,
            "grid_auto_rows": null,
            "grid_column": null,
            "grid_gap": null,
            "grid_row": null,
            "grid_template_areas": null,
            "grid_template_columns": null,
            "grid_template_rows": null,
            "height": null,
            "justify_content": null,
            "justify_items": null,
            "left": null,
            "margin": null,
            "max_height": null,
            "max_width": null,
            "min_height": null,
            "min_width": null,
            "object_fit": null,
            "object_position": null,
            "order": null,
            "overflow": null,
            "overflow_x": null,
            "overflow_y": null,
            "padding": null,
            "right": null,
            "top": null,
            "visibility": null,
            "width": null
          }
        },
        "df5a8c856d1f4fe6b0dad24f337b8dbc": {
          "model_module": "@jupyter-widgets/controls",
          "model_module_version": "1.5.0",
          "model_name": "DescriptionStyleModel",
          "state": {
            "_model_module": "@jupyter-widgets/controls",
            "_model_module_version": "1.5.0",
            "_model_name": "DescriptionStyleModel",
            "_view_count": null,
            "_view_module": "@jupyter-widgets/base",
            "_view_module_version": "1.2.0",
            "_view_name": "StyleView",
            "description_width": ""
          }
        },
        "df5ddc2fd9cf43e9886a460aa3df03c0": {
          "model_module": "@jupyter-widgets/controls",
          "model_module_version": "1.5.0",
          "model_name": "FloatProgressModel",
          "state": {
            "_dom_classes": [],
            "_model_module": "@jupyter-widgets/controls",
            "_model_module_version": "1.5.0",
            "_model_name": "FloatProgressModel",
            "_view_count": null,
            "_view_module": "@jupyter-widgets/controls",
            "_view_module_version": "1.5.0",
            "_view_name": "ProgressView",
            "bar_style": "",
            "description": "",
            "description_tooltip": null,
            "layout": "IPY_MODEL_aa9dbbfaa61948bfa751e7e6dc15d671",
            "max": 7600,
            "min": 0,
            "orientation": "horizontal",
            "style": "IPY_MODEL_f18cbfbcf1214c129ffbed90b9d2c9fa",
            "value": 7600
          }
        },
        "e097a557aa914fc0af8c8619422e48fe": {
          "model_module": "@jupyter-widgets/controls",
          "model_module_version": "1.5.0",
          "model_name": "HTMLModel",
          "state": {
            "_dom_classes": [],
            "_model_module": "@jupyter-widgets/controls",
            "_model_module_version": "1.5.0",
            "_model_name": "HTMLModel",
            "_view_count": null,
            "_view_module": "@jupyter-widgets/controls",
            "_view_module_version": "1.5.0",
            "_view_name": "HTMLView",
            "description": "",
            "description_tooltip": null,
            "layout": "IPY_MODEL_7e65894bf3f245f1b6cfa67d633d2297",
            "placeholder": "​",
            "style": "IPY_MODEL_09541acc5ad446c788552ebdf90904e9",
            "value": " 1/1 [00:22&lt;00:00, 21.65s/ url]"
          }
        },
        "e1f65417d2764da08e1c353c85ecf183": {
          "model_module": "@jupyter-widgets/base",
          "model_module_version": "1.2.0",
          "model_name": "LayoutModel",
          "state": {
            "_model_module": "@jupyter-widgets/base",
            "_model_module_version": "1.2.0",
            "_model_name": "LayoutModel",
            "_view_count": null,
            "_view_module": "@jupyter-widgets/base",
            "_view_module_version": "1.2.0",
            "_view_name": "LayoutView",
            "align_content": null,
            "align_items": null,
            "align_self": null,
            "border": null,
            "bottom": null,
            "display": null,
            "flex": null,
            "flex_flow": null,
            "grid_area": null,
            "grid_auto_columns": null,
            "grid_auto_flow": null,
            "grid_auto_rows": null,
            "grid_column": null,
            "grid_gap": null,
            "grid_row": null,
            "grid_template_areas": null,
            "grid_template_columns": null,
            "grid_template_rows": null,
            "height": null,
            "justify_content": null,
            "justify_items": null,
            "left": null,
            "margin": null,
            "max_height": null,
            "max_width": null,
            "min_height": null,
            "min_width": null,
            "object_fit": null,
            "object_position": null,
            "order": null,
            "overflow": null,
            "overflow_x": null,
            "overflow_y": null,
            "padding": null,
            "right": null,
            "top": null,
            "visibility": null,
            "width": null
          }
        },
        "e2eb085fa71b41c8aca7b7995a2e9acb": {
          "model_module": "@jupyter-widgets/controls",
          "model_module_version": "1.5.0",
          "model_name": "DescriptionStyleModel",
          "state": {
            "_model_module": "@jupyter-widgets/controls",
            "_model_module_version": "1.5.0",
            "_model_name": "DescriptionStyleModel",
            "_view_count": null,
            "_view_module": "@jupyter-widgets/base",
            "_view_module_version": "1.2.0",
            "_view_name": "StyleView",
            "description_width": ""
          }
        },
        "e45fbef7e33549e6af28f3766f397366": {
          "model_module": "@jupyter-widgets/base",
          "model_module_version": "1.2.0",
          "model_name": "LayoutModel",
          "state": {
            "_model_module": "@jupyter-widgets/base",
            "_model_module_version": "1.2.0",
            "_model_name": "LayoutModel",
            "_view_count": null,
            "_view_module": "@jupyter-widgets/base",
            "_view_module_version": "1.2.0",
            "_view_name": "LayoutView",
            "align_content": null,
            "align_items": null,
            "align_self": null,
            "border": null,
            "bottom": null,
            "display": null,
            "flex": null,
            "flex_flow": null,
            "grid_area": null,
            "grid_auto_columns": null,
            "grid_auto_flow": null,
            "grid_auto_rows": null,
            "grid_column": null,
            "grid_gap": null,
            "grid_row": null,
            "grid_template_areas": null,
            "grid_template_columns": null,
            "grid_template_rows": null,
            "height": null,
            "justify_content": null,
            "justify_items": null,
            "left": null,
            "margin": null,
            "max_height": null,
            "max_width": null,
            "min_height": null,
            "min_width": null,
            "object_fit": null,
            "object_position": null,
            "order": null,
            "overflow": null,
            "overflow_x": null,
            "overflow_y": null,
            "padding": null,
            "right": null,
            "top": null,
            "visibility": "hidden",
            "width": null
          }
        },
        "e4cbaa46fedd4dcbab49120b2607b30f": {
          "model_module": "@jupyter-widgets/controls",
          "model_module_version": "1.5.0",
          "model_name": "DescriptionStyleModel",
          "state": {
            "_model_module": "@jupyter-widgets/controls",
            "_model_module_version": "1.5.0",
            "_model_name": "DescriptionStyleModel",
            "_view_count": null,
            "_view_module": "@jupyter-widgets/base",
            "_view_module_version": "1.2.0",
            "_view_name": "StyleView",
            "description_width": ""
          }
        },
        "e72b99c5aaa1463b8b3035c82b2d7c33": {
          "model_module": "@jupyter-widgets/controls",
          "model_module_version": "1.5.0",
          "model_name": "HTMLModel",
          "state": {
            "_dom_classes": [],
            "_model_module": "@jupyter-widgets/controls",
            "_model_module_version": "1.5.0",
            "_model_name": "HTMLModel",
            "_view_count": null,
            "_view_module": "@jupyter-widgets/controls",
            "_view_module_version": "1.5.0",
            "_view_name": "HTMLView",
            "description": "",
            "description_tooltip": null,
            "layout": "IPY_MODEL_884d5f1618f047baaa6871f4e04b45ef",
            "placeholder": "​",
            "style": "IPY_MODEL_0e18100e1de240498f206a92cbeb1a6f",
            "value": "Shuffling /root/tensorflow_datasets/ag_news_subset/incomplete.KIR9TF_1.0.0/ag_news_subset-train.tfrecord*...:   0%"
          }
        },
        "ebbb61abfe444d5f89fcd2143e43ad77": {
          "model_module": "@jupyter-widgets/base",
          "model_module_version": "1.2.0",
          "model_name": "LayoutModel",
          "state": {
            "_model_module": "@jupyter-widgets/base",
            "_model_module_version": "1.2.0",
            "_model_name": "LayoutModel",
            "_view_count": null,
            "_view_module": "@jupyter-widgets/base",
            "_view_module_version": "1.2.0",
            "_view_name": "LayoutView",
            "align_content": null,
            "align_items": null,
            "align_self": null,
            "border": null,
            "bottom": null,
            "display": null,
            "flex": null,
            "flex_flow": null,
            "grid_area": null,
            "grid_auto_columns": null,
            "grid_auto_flow": null,
            "grid_auto_rows": null,
            "grid_column": null,
            "grid_gap": null,
            "grid_row": null,
            "grid_template_areas": null,
            "grid_template_columns": null,
            "grid_template_rows": null,
            "height": null,
            "justify_content": null,
            "justify_items": null,
            "left": null,
            "margin": null,
            "max_height": null,
            "max_width": null,
            "min_height": null,
            "min_width": null,
            "object_fit": null,
            "object_position": null,
            "order": null,
            "overflow": null,
            "overflow_x": null,
            "overflow_y": null,
            "padding": null,
            "right": null,
            "top": null,
            "visibility": null,
            "width": null
          }
        },
        "f02bdba4533f4544b8f5d4092f4f2dcf": {
          "model_module": "@jupyter-widgets/base",
          "model_module_version": "1.2.0",
          "model_name": "LayoutModel",
          "state": {
            "_model_module": "@jupyter-widgets/base",
            "_model_module_version": "1.2.0",
            "_model_name": "LayoutModel",
            "_view_count": null,
            "_view_module": "@jupyter-widgets/base",
            "_view_module_version": "1.2.0",
            "_view_name": "LayoutView",
            "align_content": null,
            "align_items": null,
            "align_self": null,
            "border": null,
            "bottom": null,
            "display": null,
            "flex": null,
            "flex_flow": null,
            "grid_area": null,
            "grid_auto_columns": null,
            "grid_auto_flow": null,
            "grid_auto_rows": null,
            "grid_column": null,
            "grid_gap": null,
            "grid_row": null,
            "grid_template_areas": null,
            "grid_template_columns": null,
            "grid_template_rows": null,
            "height": null,
            "justify_content": null,
            "justify_items": null,
            "left": null,
            "margin": null,
            "max_height": null,
            "max_width": null,
            "min_height": null,
            "min_width": null,
            "object_fit": null,
            "object_position": null,
            "order": null,
            "overflow": null,
            "overflow_x": null,
            "overflow_y": null,
            "padding": null,
            "right": null,
            "top": null,
            "visibility": null,
            "width": null
          }
        },
        "f0501d3099e243d18344f786aeb4ea03": {
          "model_module": "@jupyter-widgets/base",
          "model_module_version": "1.2.0",
          "model_name": "LayoutModel",
          "state": {
            "_model_module": "@jupyter-widgets/base",
            "_model_module_version": "1.2.0",
            "_model_name": "LayoutModel",
            "_view_count": null,
            "_view_module": "@jupyter-widgets/base",
            "_view_module_version": "1.2.0",
            "_view_name": "LayoutView",
            "align_content": null,
            "align_items": null,
            "align_self": null,
            "border": null,
            "bottom": null,
            "display": null,
            "flex": null,
            "flex_flow": null,
            "grid_area": null,
            "grid_auto_columns": null,
            "grid_auto_flow": null,
            "grid_auto_rows": null,
            "grid_column": null,
            "grid_gap": null,
            "grid_row": null,
            "grid_template_areas": null,
            "grid_template_columns": null,
            "grid_template_rows": null,
            "height": null,
            "justify_content": null,
            "justify_items": null,
            "left": null,
            "margin": null,
            "max_height": null,
            "max_width": null,
            "min_height": null,
            "min_width": null,
            "object_fit": null,
            "object_position": null,
            "order": null,
            "overflow": null,
            "overflow_x": null,
            "overflow_y": null,
            "padding": null,
            "right": null,
            "top": null,
            "visibility": null,
            "width": null
          }
        },
        "f129025f1c214aa19fd8695cd33116be": {
          "model_module": "@jupyter-widgets/base",
          "model_module_version": "1.2.0",
          "model_name": "LayoutModel",
          "state": {
            "_model_module": "@jupyter-widgets/base",
            "_model_module_version": "1.2.0",
            "_model_name": "LayoutModel",
            "_view_count": null,
            "_view_module": "@jupyter-widgets/base",
            "_view_module_version": "1.2.0",
            "_view_name": "LayoutView",
            "align_content": null,
            "align_items": null,
            "align_self": null,
            "border": null,
            "bottom": null,
            "display": null,
            "flex": null,
            "flex_flow": null,
            "grid_area": null,
            "grid_auto_columns": null,
            "grid_auto_flow": null,
            "grid_auto_rows": null,
            "grid_column": null,
            "grid_gap": null,
            "grid_row": null,
            "grid_template_areas": null,
            "grid_template_columns": null,
            "grid_template_rows": null,
            "height": null,
            "justify_content": null,
            "justify_items": null,
            "left": null,
            "margin": null,
            "max_height": null,
            "max_width": null,
            "min_height": null,
            "min_width": null,
            "object_fit": null,
            "object_position": null,
            "order": null,
            "overflow": null,
            "overflow_x": null,
            "overflow_y": null,
            "padding": null,
            "right": null,
            "top": null,
            "visibility": null,
            "width": null
          }
        },
        "f18cbfbcf1214c129ffbed90b9d2c9fa": {
          "model_module": "@jupyter-widgets/controls",
          "model_module_version": "1.5.0",
          "model_name": "ProgressStyleModel",
          "state": {
            "_model_module": "@jupyter-widgets/controls",
            "_model_module_version": "1.5.0",
            "_model_name": "ProgressStyleModel",
            "_view_count": null,
            "_view_module": "@jupyter-widgets/base",
            "_view_module_version": "1.2.0",
            "_view_name": "StyleView",
            "bar_color": null,
            "description_width": ""
          }
        },
        "fa557356961f47929a52c6b046e29685": {
          "model_module": "@jupyter-widgets/controls",
          "model_module_version": "1.5.0",
          "model_name": "ProgressStyleModel",
          "state": {
            "_model_module": "@jupyter-widgets/controls",
            "_model_module_version": "1.5.0",
            "_model_name": "ProgressStyleModel",
            "_view_count": null,
            "_view_module": "@jupyter-widgets/base",
            "_view_module_version": "1.2.0",
            "_view_name": "StyleView",
            "bar_color": null,
            "description_width": ""
          }
        },
        "fbc108b917484c28a891859c2fdba763": {
          "model_module": "@jupyter-widgets/controls",
          "model_module_version": "1.5.0",
          "model_name": "DescriptionStyleModel",
          "state": {
            "_model_module": "@jupyter-widgets/controls",
            "_model_module_version": "1.5.0",
            "_model_name": "DescriptionStyleModel",
            "_view_count": null,
            "_view_module": "@jupyter-widgets/base",
            "_view_module_version": "1.2.0",
            "_view_name": "StyleView",
            "description_width": ""
          }
        }
      }
    }
  },
  "nbformat": 4,
  "nbformat_minor": 0
}